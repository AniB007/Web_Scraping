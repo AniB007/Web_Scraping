{
  "cells": [
    {
      "cell_type": "markdown",
      "metadata": {
        "id": "view-in-github",
        "colab_type": "text"
      },
      "source": [
        "<a href=\"https://colab.research.google.com/github/AniB007/Web_Scraping/blob/main/Web%20Scraping.ipynb\" target=\"_parent\"><img src=\"https://colab.research.google.com/assets/colab-badge.svg\" alt=\"Open In Colab\"/></a>"
      ]
    },
    {
      "cell_type": "markdown",
      "metadata": {
        "id": "bKFlk3slQ1ol"
      },
     
        "   - Keep the CSV file in your Drive Folder and Share the Drive link on the colab while keeping view access with anyone.\n",
        "```\n",
        "\n",
        "**Submission:**\n",
        "```\n",
        "- Submit a link to your Colab made for the assignment.\n",
        "\n",
        "- The Colab should contain your Python script (.py format only) with clear\n",
        "  comments explaining the scraping, filtering, and analysis process.\n",
        "\n",
        "- Your Code shouldn't have any errors and should be executable at a one go.\n",
        "\n",
        "- Before Conclusion, Keep your Dataset Drive Link in the Notebook.\n",
        "```\n",
        "\n",
        "\n",
        "\n",
        "**Note:**\n",
        "\n",
        "1. Properly handle errors and exceptions during web scraping to ensure a robust script.\n",
        "\n",
        "2. Make sure your code is well-structured, easy to understand, and follows Python best practices.\n",
        "\n",
        "3. The assignment will be evaluated based on the correctness of the scraped data, accuracy of data filtering and analysis, and the overall quality of the Python code.\n",
        "\n",
        "\n",
        "\n",
        "\n",
        "\n",
        "\n"
      ]
    },
    {
      "cell_type": "markdown",
      "metadata": {
        "id": "k8ptoMlNQ5zB"
      },
      "source": [
        "# **Start The Project**"
      ]
    },
    {
      "cell_type": "markdown",
      "metadata": {
        "id": "-xHLaFLPn4yC"
      },
      "source": [
        "## **Task 1:- Web Scrapping**"
      ]
    },
    {
      "cell_type": "code",
      "execution_count": null,
      "metadata": {
        "id": "omJlLZASQBmU"
      },
      "outputs": [],
      "source": [
        "#import all necessary labraries\n",
        "import requests\n",
        "from bs4 import BeautifulSoup\n",
        "import re\n",
        "import pandas as pd\n",
        "import numpy as np"
      ]
    },
    {
      "cell_type": "markdown",
      "metadata": {
        "id": "NCWbwB1Og3bD"
      },
      "source": [
        "## **Scrapping Movies Data**"
      ]
    },
    {
      "cell_type": "code",
      "execution_count": null,
      "metadata": {
        "id": "nPDgza5mQJKr"
      },
      "outputs": [],
      "source": [
        "def fetch_movie_urls(url):\n",
        "    headers = {\n",
        "        'User-Agent': 'Mozilla/5.0 (Windows NT 10.0; Win64; x64) AppleWebKit/537.36 (KHTML, like Gecko) Chrome/58.0.3029.110 Safari/537.36'}\n",
        "    response = requests.get(url, headers=headers)\n",
        "\n",
        "    if response.status_code != 200:\n",
        "        return \"Failed to retrieve the page, status code:\", response.status_code\n",
        "    soup = BeautifulSoup(response.text, 'html.parser')\n",
        "    return soup\n",
        "\n",
        "\n",
        "url = 'https://www.justwatch.com/in/movies?release_year_from=2000'\n",
        "soup=fetch_movie_urls(url)\n",
        "\n",
        "## Hint : Use the following code to extract the film urls\n",
        "# movie_links = soup.find_all('a', href=True)\n",
        "# movie_urls = [link['href'] for link in movie_links if '/movie/' in link['href']]\n",
        "\n",
        "# url_list=[]\n",
        "# for x in movie_urls:\n",
        "#   url_list.append('https://www.justwatch.com'+x)"
      ]
    },
    {
      "cell_type": "markdown",
      "metadata": {
        "id": "V-qsNrtIsBEp"
      },
      "source": [
        "## **Fetching Movie URL's**"
      ]
    },
    {
      "cell_type": "code",
      "execution_count": null,
      "metadata": {
        "id": "nXj9U4lshQY1"
      },
      "outputs": [],
      "source": [
        "# Write Your Code here\n",
        "movie_links = soup.find_all('a', href=True)\n",
        "movie_urls = [link['href'] for link in movie_links if '/movie/' in link['href']]\n",
        "\n",
        "url_list=[]\n",
        "for x in movie_urls:\n",
        "  url_list.append('https://www.justwatch.com'+x)"
      ]
    },
    {
      "cell_type": "code",
      "execution_count": null,
      "metadata": {
        "id": "iqr9Zn2whAkH"
      },
      "outputs": [],
      "source": [
        "# Storing list of html tags in html\n",
        "html=[]\n",
        "for url in url_list:\n",
        "  box = fetch_movie_urls(url)\n",
        "  html.append(box)"
      ]
    },
    {
      "cell_type": "markdown",
      "metadata": {
        "id": "Dam_ehZgvgmw"
      },
      "source": [
        "## **Scrapping Movie Title**"
      ]
    },
    {
      "cell_type": "code",
      "execution_count": null,
      "metadata": {
        "colab": {
          "base_uri": "https://localhost:8080/"
        },
        "id": "1FGDXRKQxd1s",
        "outputId": "daca0cb4-a4aa-448f-e42e-380edf5719ae"
      },
      "outputs": [
        {
          "output_type": "stream",
          "name": "stdout",
          "text": [
            "[' Stree 2: Sarkate Ka Aatank', ' Kalki 2898-AD', ' Kill', ' Munjya', ' Stree', ' Siddharth Roy', ' Raayan', ' Maharaja', ' Deadpool & Wolverine', ' Laila Majnu', ' Chandu Champion', ' Double Ismart', ' Bhediya', ' Salaar', ' The Fall Guy', ' Phir Aayi Hasseen Dillruba', ' 365 Days', ' Tumbbad', ' Twisters', ' Inside Out 2', ' Dune: Part Two', ' Bad Newz', ' Kingdom of the Planet of the Apes', ' Golam', ' Je Jatt Vigad Gya', ' Indian 2', ' The Goat Life', ' Godzilla x Kong: The New Empire', ' Bad Boys: Ride or Die', ' Aavesham', ' Trisha on the Rocks', ' Longlegs', ' Despicable Me 4', ' Vedaa', ' Aattam', ' Furiosa: A Mad Max Saga', ' The Union', ' It Ends with Us', ' Maharshi', ' A Quiet Place: Day One', ' Land of Bad', ' Alien: Covenant', ' Rebel Ridge', ' Thangalaan', ' Alien: Romulus', ' Little Hearts', ' Deadpool', ' Oppenheimer', ' The Gangster, the Cop, the Devil', ' The Beast', ' American Psycho', ' Demonte Colony', ' Hanu-Man', ' Agent', ' Geostorm', ' Sam Bahadur', ' Fly Me to the Moon', ' Laapataa Ladies', ' The Greatest of All Time', ' Harom Hara', ' The Intern', ' Jackpot!', ' Maharaj', ' Manjummel Boys', ' Dune', ' Khel Khel Mein', ' Animal', \" Harry Potter and the Philosopher's Stone\", ' 12th Fail', ' Rockstar', ' Ullozhukku', ' Mangalavaaram', ' Haseen Dillruba', ' La La Land', ' Dangal', ' Bangalore Days', ' Perfect Days', ' Satyabhama', ' Knives Out', ' The Ministry of Ungentlemanly Warfare', ' Premalu', ' Sultan', ' Uranus 2324', ' Chilli Chicken', ' Bhaiyya Ji', ' Ala Vaikunthapurramuloo', ' Pushpa: The Rise', ' The Wolf of Wall Street', ' The Whistleblower', ' Stree 2: Sarkate Ka Aatank', ' Kalki 2898-AD', ' Kill', ' Munjya', ' Stree', ' Sector 36', ' Officer Black Belt', ' Uglies']\n"
          ]
        }
      ],
      "source": [
        "# Extract movie titles\n",
        "movie_titles = []\n",
        "for soup in html:\n",
        "  if isinstance(soup, tuple):\n",
        "        soup = soup[0]\n",
        "  elif not isinstance(soup, str):\n",
        "        movie = soup.find('h1', class_=\"title-detail-hero__details__title\").text\n",
        "        movie_titles.append(movie[:-7])\n",
        "print(movie_titles)\n"
      ]
    },
    {
      "cell_type": "markdown",
      "metadata": {
        "id": "VEg1U1uPzGoj"
      },
      "source": [
        "## **Scrapping release Year**"
      ]
    },
    {
      "cell_type": "code",
      "execution_count": null,
      "metadata": {
        "colab": {
          "base_uri": "https://localhost:8080/"
        },
        "id": "8KjQSrNGIkuE",
        "outputId": "80232955-ad05-4777-a53b-6c93b8e9722b"
      },
      "outputs": [
        {
          "output_type": "stream",
          "name": "stdout",
          "text": [
            "['(2024)', '(2024)', '(2024)', '(2024)', '(2018)', '(2024)', '(2024)', '(2024)', '(2024)', '(2018)', '(2024)', '(2024)', '(2022)', '(2023)', '(2024)', '(2024)', '(2020)', '(2018)', '(2024)', '(2024)', '(2024)', '(2024)', '(2024)', '(2024)', '(2024)', '(2024)', '(2024)', '(2024)', '(2024)', '(2024)', '(2024)', '(2024)', '(2024)', '(2024)', '(2024)', '(2024)', '(2024)', '(2024)', '(2019)', '(2024)', '(2024)', '(2017)', '(2024)', '(2024)', '(2024)', '(2024)', '(2016)', '(2023)', '(2019)', '(2024)', '(2000)', '(2015)', '(2024)', '(2023)', '(2017)', '(2023)', '(2024)', '(2024)', '(2024)', '(2024)', '(2015)', '(2024)', '(2024)', '(2024)', '(2021)', '(2024)', '(2023)', '(2001)', '(2023)', '(2011)', '(2024)', '(2023)', '(2021)', '(2016)', '(2016)', '(2014)', '(2023)', '(2024)', '(2019)', '(2024)', '(2024)', '(2016)', '(2024)', '(2024)', '(2024)', '(2020)', '(2021)', '(2013)', '(2010)', '(2024)', '(2024)', '(2024)', '(2024)', '(2018)', '(2024)', '(2024)', '(2024)']\n"
          ]
        }
      ],
      "source": [
        "# Extract Release Year\n",
        "release_year=[]\n",
        "for  soup in html:\n",
        "  if isinstance(soup, tuple):\n",
        "    soup = soup[0]\n",
        "  elif not isinstance(soup, str):\n",
        "    rel_year = soup.find('span', {'class':\"release-year\"})\n",
        "    release_year.append(rel_year.text)\n",
        "print(release_year)"
      ]
    },
    {
      "cell_type": "markdown",
      "metadata": {
        "id": "aqzhL8STqaMX"
      },
      "source": [
        "## **Scrapping Genres**"
      ]
    },
    {
      "cell_type": "code",
      "execution_count": null,
      "metadata": {
        "colab": {
          "base_uri": "https://localhost:8080/"
        },
        "id": "c27S5Bav0xtM",
        "outputId": "9c675c76-548b-4773-c307-5a65c3861aef"
      },
      "outputs": [
        {
          "output_type": "stream",
          "name": "stdout",
          "text": [
            "['Comedy, Horror', 'Drama, Action & Adventure, Fantasy, Science-Fiction, Mystery & Thriller', 'Mystery & Thriller, Action & Adventure, Crime, Drama', 'Horror, Comedy', 'Horror, Comedy, Drama', 'Drama, Romance', 'Drama, Action & Adventure, Mystery & Thriller', 'Crime, Drama, Mystery & Thriller, Action & Adventure', 'Action & Adventure, Comedy, Science-Fiction', 'Drama, Romance', 'Action & Adventure, Drama, History, Sport, War & Military', 'Action & Adventure, Science-Fiction, Mystery & Thriller', 'Horror, Mystery & Thriller, Comedy', 'Action & Adventure, Crime, Drama, Mystery & Thriller', 'Action & Adventure, Comedy, Drama, Romance', 'Mystery & Thriller, Romance, Crime, Drama', 'Drama, Romance, Made in Europe', 'Fantasy, Horror, Mystery & Thriller, Drama, Made in Europe', 'Action & Adventure, Mystery & Thriller', 'Animation, Kids & Family, Action & Adventure, Comedy, Drama, Fantasy', 'Science-Fiction, Action & Adventure, Drama', 'Romance, Comedy, Drama', 'Science-Fiction, Action & Adventure, Drama, Mystery & Thriller', 'Crime', 'Drama', 'Action & Adventure, Drama, Mystery & Thriller', 'Drama', 'Science-Fiction, Mystery & Thriller, Action & Adventure, Fantasy', 'Comedy, Action & Adventure, Crime, Mystery & Thriller', 'Comedy, Action & Adventure', 'Romance, Comedy', 'Horror, Mystery & Thriller, Crime', 'Comedy, Kids & Family, Science-Fiction, Animation, Crime', 'Action & Adventure, Drama, Mystery & Thriller', 'Drama, Mystery & Thriller', 'Action & Adventure, Science-Fiction, Mystery & Thriller', 'Comedy, Action & Adventure, Mystery & Thriller', 'Drama, Romance', 'Drama, Action & Adventure', 'Horror, Science-Fiction, Mystery & Thriller, Drama', 'Action & Adventure, War & Military, Mystery & Thriller', 'Science-Fiction, Horror, Mystery & Thriller', 'Mystery & Thriller, Action & Adventure, Crime, Drama', 'Fantasy, Drama, History, Action & Adventure', 'Horror, Science-Fiction, Mystery & Thriller', 'Comedy, Romance, Drama', 'Action & Adventure, Comedy', 'Drama, History', 'Mystery & Thriller, Crime, Action & Adventure', 'Drama, Romance, Science-Fiction, Mystery & Thriller', 'Mystery & Thriller, Drama, Crime, Horror', 'Horror, Mystery & Thriller', 'Science-Fiction, Fantasy, Action & Adventure, Comedy', 'Mystery & Thriller, Action & Adventure', 'Mystery & Thriller, Action & Adventure, Science-Fiction', 'War & Military, Drama, History', 'Romance, Comedy', 'Drama, Comedy', 'Drama, Mystery & Thriller, Action & Adventure, Science-Fiction', 'Drama, Action & Adventure, Crime', 'Comedy, Drama', 'Action & Adventure, Comedy, Science-Fiction', 'Drama, History, Mystery & Thriller, Crime', 'Drama, Mystery & Thriller, Action & Adventure', 'Science-Fiction, Action & Adventure, Drama', 'Comedy, Drama', 'Drama, Mystery & Thriller, Action & Adventure, Crime', 'Action & Adventure, Fantasy, Kids & Family', 'Drama', 'Drama, Music & Musical, Romance', 'Drama', 'Mystery & Thriller, Action & Adventure, Horror', 'Romance, Mystery & Thriller, Crime, Drama', 'Music & Musical, Comedy, Drama, Romance', 'Action & Adventure, Drama, Sport', 'Drama, Comedy, Romance', 'Drama', 'Crime, Drama, Mystery & Thriller', 'Crime, Mystery & Thriller, Comedy, Drama', 'Comedy, War & Military, Action & Adventure', 'Romance, Comedy', 'Drama, Action & Adventure, Romance, Sport', 'Science-Fiction, Romance, Drama', 'Science-Fiction, Romance, Drama', 'Drama', 'Drama', 'Action & Adventure, Drama', 'Action & Adventure, Drama', 'Action & Adventure, Drama', 'Action & Adventure, Drama', 'Action & Adventure, Drama', 'Action & Adventure, Comedy, Drama', 'Drama, Mystery & Thriller, Action & Adventure, Crime', 'Drama, Mystery & Thriller, Action & Adventure, Crime', 'Drama, Mystery & Thriller, Action & Adventure, Crime', 'Crime, Comedy, Drama', 'Crime, Comedy, Drama', 'Crime, Comedy, Drama', 'Crime, Comedy, Drama', 'Crime, Drama, Mystery & Thriller, Made in Europe', 'Comedy, Horror', 'Drama, Action & Adventure, Fantasy, Science-Fiction, Mystery & Thriller', 'Mystery & Thriller, Action & Adventure, Crime, Drama', 'Horror, Comedy', 'Horror, Comedy, Drama', 'Horror, Comedy, Drama', 'Mystery & Thriller, Drama, Crime', 'Action & Adventure, Comedy, Crime', 'Science-Fiction, Mystery & Thriller, Action & Adventure, Drama, Fantasy', 'Science-Fiction, Mystery & Thriller, Action & Adventure, Drama, Fantasy']\n"
          ]
        }
      ],
      "source": [
        "#Write your code here\n",
        "genres=[]\n",
        "for soup in html:\n",
        "  if isinstance(soup, tuple):\n",
        "    soup = soup[0]\n",
        "  elif not isinstance(soup, str):\n",
        "    genres_heading = soup.find('h3', class_='detail-infos__subheading', string='Genres')\n",
        "\n",
        "# Find the <div> element following the <h3> element\n",
        "  if genres_heading:\n",
        "    genre_div = genres_heading.find_next_sibling('div', class_='detail-infos__value')\n",
        "    genres.append(genre_div.text)\n",
        "print(genres)"
      ]
    },
    {
      "cell_type": "markdown",
      "metadata": {
        "id": "UOof6-0xFuf6"
      },
      "source": [
        "## **Scrapping IMBD Rating**"
      ]
    },
    {
      "cell_type": "code",
      "execution_count": null,
      "metadata": {
        "colab": {
          "base_uri": "https://localhost:8080/"
        },
        "id": "jCxe0d6Bw09L",
        "outputId": "3d39ca01-1533-43da-8fbd-8d889fe5df3d"
      },
      "outputs": [
        {
          "output_type": "stream",
          "name": "stdout",
          "text": [
            "['7.7', '7.2', '7.6', '6.5', '7.5', '7.4', '6.5', '8.6', '8.0', '7.7', '7.9', '3.2', '6.7', '6.5', '6.9', '5.8', '3.3', '8.2', '6.7', '7.7', '8.5', '5.4', '6.9', '7.2', '4.7', '4.0', '7.1', '6.1', '6.6', '7.8', '5.5', '6.8', '6.2', '6.7', '8.2', '7.6', '5.4', '6.7', '7.2', '6.3', '6.6', '6.4', '7.0', '7.3', '7.4', '6.3', '8.0', '8.3', '6.9', '6.6', '7.6', '7.0', '7.8', '4.2', '5.3', '7.7', '6.8', '8.4', '6.9', '7.9', '7.1', '5.8', '6.6', '8.3', '8.0', '7.0', '6.1', '7.6', '8.9', '7.8', '7.6', '6.7', '6.9', '8.0', '8.3', '8.3', '7.9', '6.2', '7.9', '6.8', '7.8', '7.1', '7.9', '7.7', '4.9', '7.3', '7.6', '8.2', '7.1', '7.7', '7.2', '7.6', '6.5', '7.5', 'N/A', 'N/A', 'N/A']\n"
          ]
        }
      ],
      "source": [
        "# Write Your Code here\n",
        "imdb_rating=[]\n",
        "for soup in html:\n",
        "  if isinstance(soup, tuple):\n",
        "    soup = soup[0]\n",
        "  elif not isinstance(soup, str):\n",
        "    # Check if the element exists before accessing the text attribute\n",
        "    imdb_element = soup.find('div',class_=\"jw-scoring-listing__rating--group jw-scoring-listing__rating--link\")\n",
        "    if imdb_element:\n",
        "      imdb = imdb_element.text\n",
        "      imdb_rating.append(imdb[0:3])\n",
        "    else:\n",
        "      # Handle the case where the element is not found\n",
        "      imdb_rating.append(\"N/A\")  # Or any other suitable value\n",
        "print(imdb_rating)"
      ]
    },
    {
      "cell_type": "markdown",
      "metadata": {
        "id": "8CHiu0A5RAuM"
      },
      "source": [
        "## **Scrapping Runtime/Duration**"
      ]
    },
    {
      "cell_type": "code",
      "execution_count": null,
      "metadata": {
        "colab": {
          "base_uri": "https://localhost:8080/"
        },
        "id": "si_yaGO8OTBo",
        "outputId": "97209af7-8bf2-4113-bb9d-d4a7172ad387"
      },
      "outputs": [
        {
          "output_type": "stream",
          "name": "stdout",
          "text": [
            "['2h 27min', '2h 56min', '1h 45min', '2h 3min', '2h 7min', '2h 28min', '2h 25min', '2h 21min', '2h 8min', '2h 19min', '2h 22min', '2h 36min', '2h 36min', '2h 55min', '2h 6min', '2h 13min', '1h 54min', '1h 53min', '2h 2min', '1h 37min', '2h 47min', '2h 20min', '2h 25min', '2h 0min', '2h 12min', '3h 0min', '2h 0min', '1h 54min', '1h 55min', '2h 38min', '2h 52min', '1h 41min', '1h 34min', '2h 30min', '2h 19min', '2h 28min', '1h 49min', '2h 10min', '2h 56min', '1h 39min', '1h 53min', '2h 2min', '2h 12min', '2h 36min', '1h 59min', '2h 16min', '1h 48min', '3h 0min', '1h 50min', '2h 26min', '1h 42min', '1h 56min', '2h 39min', '2h 34min', '1h 49min', '2h 30min', '2h 12min', '2h 2min', '3h 3min', '2h 34min', '2h 2min', '1h 46min', '2h 12min', '2h 15min', '2h 35min', '2h 15min', '3h 24min', '2h 32min', '2h 26min', '2h 39min', '2h 3min', '2h 29min', '2h 15min', '2h 8min', '2h 41min', '2h 52min', '2h 4min', '2h 12min', '2h 11min', '2h 2min', '2h 36min', '2h 50min', '2h 28min', '2h 28min', '2h 3min', '2h 3min', '2h 30min', '2h 30min', '2h 30min', '2h 30min', '2h 30min', '2h 45min', '2h 59min', '2h 59min', '2h 59min', '3h 0min', '3h 0min', '3h 0min', '3h 0min', '1h 52min', '2h 27min', '2h 56min', '1h 45min', '2h 3min', '2h 7min', '2h 7min', '2h 3min', '1h 48min', '1h 40min', '1h 40min']\n"
          ]
        }
      ],
      "source": [
        "# Write Your Code here\n",
        "runtime=[]\n",
        "for soup in html:\n",
        "  if isinstance(soup, tuple):\n",
        "    soup = soup[0]\n",
        "  elif not isinstance(soup, str):\n",
        "    runtime_heading = soup.find('h3', class_='detail-infos__subheading', string='Runtime')\n",
        "\n",
        "# Find the <div> element following the <h3> element\n",
        "  if runtime_heading:\n",
        "    runtime_div = runtime_heading.find_next_sibling('div', class_='detail-infos__value')\n",
        "    runtime.append(runtime_div.text)\n",
        "print(runtime)"
      ]
    },
    {
      "cell_type": "markdown",
      "metadata": {
        "id": "edb4gsNcRJQN"
      },
      "source": [
        "## **Scrapping Age Rating**"
      ]
    },
    {
      "cell_type": "code",
      "execution_count": null,
      "metadata": {
        "colab": {
          "base_uri": "https://localhost:8080/"
        },
        "id": "ZsHskhOcNAUj",
        "outputId": "b62753ba-d32b-4188-cfae-405161ad8e5d"
      },
      "outputs": [
        {
          "output_type": "stream",
          "name": "stdout",
          "text": [
            "['UA', 'UA', 'A', 'UA', 'UA', 'A', 'A', 'A', 'UA', 'UA', 'UA', 'UA', 'A', 'UA', 'A', 'UA', 'U', 'UA', 'UA', 'UA', 'UA', 'UA', 'UA', 'A', 'UA', 'A', 'UA', 'UA', 'A', 'A', 'UA', 'A', 'UA', 'UA', 'A', 'UA', 'A', 'UA', 'A', 'UA', 'UA', 'UA', 'UA', 'UA', 'UA', 'A', 'UA', 'UA', 'UA', 'A', 'U', 'UA', 'U', 'A', 'U', 'U', 'UA', 'U', 'UA', 'UA', 'UA', 'UA', 'UA', 'A', 'A', 'A', 'A', 'A', 'UA', 'UA', 'A', 'UA', 'UA', 'UA', 'A']\n"
          ]
        }
      ],
      "source": [
        "# Write Your Code here\n",
        "age_rating=[]\n",
        "for soup in html:\n",
        "  if isinstance(soup, tuple):\n",
        "    soup = soup[0]\n",
        "  elif not isinstance(soup, str):\n",
        "    age_heading = soup.find('h3', class_='detail-infos__subheading', string='Age rating')\n",
        "\n",
        "# Find the <div> element following the <h3> element\n",
        "  if age_heading:\n",
        "    age_div = age_heading.find_next_sibling('div', class_='detail-infos__value')\n",
        "    age_rating.append(age_div.text)\n",
        "print(age_rating)"
      ]
    },
    {
      "cell_type": "markdown",
      "metadata": {
        "id": "_RI5FD3CqFVV"
      },
      "source": [
        "## **Fetching Production Countries Details**"
      ]
    },
    {
      "cell_type": "code",
      "execution_count": null,
      "metadata": {
        "colab": {
          "base_uri": "https://localhost:8080/"
        },
        "id": "ai6YOgZmYIcc",
        "outputId": "23439fe3-7408-4e46-ba5a-ba87c988ca86"
      },
      "outputs": [
        {
          "output_type": "stream",
          "name": "stdout",
          "text": [
            "['India', 'India', 'India', 'India', 'India', 'India', 'India', 'India', 'United States', 'India', 'India', 'India', 'India', 'India', 'United States, Australia, Canada', 'India', 'Poland', 'Sweden, India', 'United States', 'United States', 'United States', 'India', 'United States', 'India', 'India', 'India', 'India, United States', 'United States', 'United States', 'India', 'India', 'Canada, United States', 'United States', 'India', 'India', 'Australia, United States', 'United States', 'United States', 'India', 'United States, United Kingdom, Canada', 'United States, Australia, Czech Republic', 'United States', 'United States', 'India', 'United States', 'India', 'United States', 'United States, United Kingdom', 'South Korea', 'France, Canada', 'Canada, United States', 'India', 'India', 'India', 'Hong Kong, United States, Canada', 'India', 'United States', 'India', 'India', 'India', 'United States', 'United States', 'India', 'India', 'United States', 'India', 'India', 'United Kingdom, United States', 'India', 'India', 'India', 'India', 'India', 'Hong Kong, United States', 'India, United States', 'India', 'Germany, Japan', 'India', 'United States', 'United States, United Kingdom, Turkey', 'India', 'India', 'Thailand', 'Thailand', 'India', 'India', 'India', 'India', 'India', 'India', 'India', 'India', 'India', 'India', 'India', 'United States', 'United States', 'United States', 'United States', 'Canada, Germany', 'India', 'India', 'India', 'India', 'India', 'India', 'India', 'South Korea', 'United States', 'United States']\n"
          ]
        }
      ],
      "source": [
        "# Write Your Code here\n",
        "production_country=[]\n",
        "for soup in html:\n",
        "  if isinstance(soup, tuple):\n",
        "    soup = soup[0]\n",
        "  elif not isinstance(soup, str):\n",
        "    production_heading = soup.find('h3', class_='detail-infos__subheading', string=' Production country ')\n",
        "  if production_heading:\n",
        "      production_div = production_heading.find_next_sibling('div', class_='detail-infos__value')\n",
        "      production_country.append(production_div.text)\n",
        "print(production_country)"
      ]
    },
    {
      "cell_type": "markdown",
      "metadata": {
        "id": "IrJlIsBWrO2r"
      },
      "source": [
        "## **Fetching Streaming Service Details**"
      ]
    },
    {
      "cell_type": "code",
      "execution_count": null,
      "metadata": {
        "colab": {
          "base_uri": "https://localhost:8080/"
        },
        "id": "Yk72jDLZu7EZ",
        "outputId": "406544fe-a6fb-4e49-e428-6da1ae1782a8"
      },
      "outputs": [
        {
          "output_type": "stream",
          "name": "stdout",
          "text": [
            "['Bookmyshow', 'Amazon Prime Video', 'Hotstar', 'Hotstar', 'Apple TV', 'aha', 'Amazon Prime Video', 'Netflix', 'Bookmyshow', 'Zee5', 'Amazon Prime Video', 'Amazon Prime Video', 'Jio Cinema', 'Hotstar', 'Apple TV', 'Netflix', 'Netflix', 'Bookmyshow', 'Apple TV', 'Apple TV', 'Apple TV', 'Apple TV', 'Amazon Prime Video', 'Netflix', 'Netflix', 'Apple TV', 'Apple TV', 'Amazon Prime Video', 'Amazon Prime Video', 'Apple TV', 'Bookmyshow', 'Amazon Prime Video', 'Apple TV', 'Netflix', 'Bookmyshow', 'Amazon Prime Video', 'Apple TV', 'Amazon Prime Video', 'Apple TV', 'Netflix', 'Bookmyshow', 'Bookmyshow', 'Amazon Prime Video', 'Apple TV', 'Apple TV', 'Amazon Prime Video', 'Amazon Prime Video', 'Sun Nxt', 'Jio Cinema', 'Apple TV', 'Zee5', 'Apple TV', 'Netflix', 'Bookmyshow', 'Amazon Prime Video', 'Apple TV', 'Amazon Prime Video', 'Netflix', 'Hotstar', 'Apple TV', 'Netflix', 'Apple TV', 'Hotstar', 'Apple TV', 'Amazon Prime Video', 'Hotstar', 'Netflix', 'Amazon Prime Video', 'Apple TV', 'Amazon Prime Video', 'MUBI', 'Amazon Prime Video', 'Amazon Prime Video', 'Amazon Prime Video', 'Hotstar', 'Amazon Prime Video', 'Amazon Prime Video', 'Amazon Prime Video', 'Zee5', 'Zee5', 'Zee5', 'Zee5', 'Zee5', 'Sun Nxt', 'Amazon Prime Video', 'Amazon Prime Video', 'Amazon Prime Video', 'Lionsgate Play', 'Lionsgate Play', 'Lionsgate Play', 'Lionsgate Play', 'Amazon Prime Video', 'Bookmyshow', 'Amazon Prime Video', 'Hotstar', 'Hotstar', 'Apple TV', 'Apple TV', 'Netflix', 'Netflix', 'Netflix', 'Netflix']\n"
          ]
        }
      ],
      "source": [
        "# Write Your Code here\n",
        "streaming_service=[]\n",
        "for soup in html:\n",
        "  if isinstance(soup, tuple):\n",
        "    soup = soup[0]\n",
        "  elif not isinstance(soup, str):\n",
        "    stream = soup.find('div', class_=\"buybox-container\")\n",
        "  if stream:\n",
        "    img_tag = stream.find('img', class_=\"offer__icon\")\n",
        "    if img_tag:\n",
        "      alt_text = img_tag.get('alt')\n",
        "      streaming_service.append(alt_text)\n",
        "print(streaming_service)"
      ]
    },
    {
      "cell_type": "markdown",
      "metadata": {
        "id": "Mnh22VX_7f6K"
      },
      "source": [
        "## **Now Creating Movies DataFrame**"
      ]
    },
    {
      "cell_type": "code",
      "execution_count": null,
      "metadata": {
        "id": "teAM5YLpyF5b"
      },
      "outputs": [],
      "source": [
        "# Example of filling shorter lists with None\n",
        "max_length = max(len(movie_titles), len(release_year), len(genres), len(runtime), len(imdb_rating), len(streaming_service), len(url_list), len(production_country), len(age_rating))\n",
        "\n",
        "movie_titles.extend([None] * (max_length - len(movie_titles)))\n",
        "release_year.extend([None] * (max_length - len(release_year)))\n",
        "genres.extend([None] * (max_length - len(genres)))\n",
        "runtime.extend([None] * (max_length - len(runtime)))\n",
        "imdb_rating.extend([None] * (max_length - len(imdb_rating)))\n",
        "streaming_service.extend([None] * (max_length - len(streaming_service)))\n",
        "url_list.extend([None] * (max_length - len(url_list)))\n",
        "production_country.extend([None] * (max_length - len(production_country)))\n",
        "age_rating.extend([None] * (max_length - len(age_rating)))\n",
        "\n",
        "movies = pd.DataFrame({\n",
        "    'Movie Title': movie_titles,\n",
        "    'Release Year': release_year,\n",
        "    'Genre': genres,\n",
        "    'Runtime': runtime,\n",
        "    'IMDB Rating': imdb_rating,\n",
        "    'Streaming Platform': streaming_service,\n",
        "    'Production Country': production_country,\n",
        "    'Age Rating': age_rating,\n",
        "    'URL': url_list\n",
        "})\n"
      ]
    },
    {
      "cell_type": "code",
      "execution_count": null,
      "metadata": {
        "colab": {
          "base_uri": "https://localhost:8080/",
          "height": 580
        },
        "id": "97MoYydxyn5J",
        "outputId": "623fdae9-2f60-4f12-910a-81deaeb63cb9"
      },
      "outputs": [
        {
          "output_type": "execute_result",
          "data": {
            "text/plain": [
              "                     Movie Title Release Year  \\\n",
              "0     Stree 2: Sarkate Ka Aatank       (2024)   \n",
              "1                  Kalki 2898-AD       (2024)   \n",
              "2                           Kill       (2024)   \n",
              "3                         Munjya       (2024)   \n",
              "4                          Stree       (2018)   \n",
              "..                           ...          ...   \n",
              "105                         None         None   \n",
              "106                         None         None   \n",
              "107                         None         None   \n",
              "108                         None         None   \n",
              "109                         None         None   \n",
              "\n",
              "                                                 Genre   Runtime IMDB Rating  \\\n",
              "0                                       Comedy, Horror  2h 27min         7.7   \n",
              "1    Drama, Action & Adventure, Fantasy, Science-Fi...  2h 56min         7.2   \n",
              "2    Mystery & Thriller, Action & Adventure, Crime,...  1h 45min         7.6   \n",
              "3                                       Horror, Comedy   2h 3min         6.5   \n",
              "4                                Horror, Comedy, Drama   2h 7min         7.5   \n",
              "..                                                 ...       ...         ...   \n",
              "105                              Horror, Comedy, Drama   2h 7min        None   \n",
              "106                   Mystery & Thriller, Drama, Crime   2h 3min        None   \n",
              "107                  Action & Adventure, Comedy, Crime  1h 48min        None   \n",
              "108  Science-Fiction, Mystery & Thriller, Action & ...  1h 40min        None   \n",
              "109  Science-Fiction, Mystery & Thriller, Action & ...  1h 40min        None   \n",
              "\n",
              "     Streaming Platform Production Country Age Rating  \\\n",
              "0            Bookmyshow              India         UA   \n",
              "1    Amazon Prime Video              India         UA   \n",
              "2               Hotstar              India          A   \n",
              "3               Hotstar              India         UA   \n",
              "4              Apple TV              India         UA   \n",
              "..                  ...                ...        ...   \n",
              "105                None              India       None   \n",
              "106                None              India       None   \n",
              "107                None        South Korea       None   \n",
              "108                None      United States       None   \n",
              "109                None      United States       None   \n",
              "\n",
              "                                                   URL  \n",
              "0           https://www.justwatch.com/in/movie/stree-2  \n",
              "1         https://www.justwatch.com/in/movie/project-k  \n",
              "2         https://www.justwatch.com/in/movie/kill-2024  \n",
              "3            https://www.justwatch.com/in/movie/munjha  \n",
              "4             https://www.justwatch.com/in/movie/stree  \n",
              "..                                                 ...  \n",
              "105     https://www.justwatch.com/in/movie/berlin-2023  \n",
              "106       https://www.justwatch.com/in/movie/sector-36  \n",
              "107  https://www.justwatch.com/in/movie/officer-bla...  \n",
              "108          https://www.justwatch.com/in/movie/uglies  \n",
              "109  https://www.justwatch.com/in/movie/grave-of-th...  \n",
              "\n",
              "[110 rows x 9 columns]"
            ],
            "text/html": [
              "\n",
              "  <div id=\"df-8e2ad72f-f6c5-4e6a-8432-86bb039862ce\" class=\"colab-df-container\">\n",
              "    <div>\n",
              "<style scoped>\n",
              "    .dataframe tbody tr th:only-of-type {\n",
              "        vertical-align: middle;\n",
              "    }\n",
              "\n",
              "    .dataframe tbody tr th {\n",
              "        vertical-align: top;\n",
              "    }\n",
              "\n",
              "    .dataframe thead th {\n",
              "        text-align: right;\n",
              "    }\n",
              "</style>\n",
              "<table border=\"1\" class=\"dataframe\">\n",
              "  <thead>\n",
              "    <tr style=\"text-align: right;\">\n",
              "      <th></th>\n",
              "      <th>Movie Title</th>\n",
              "      <th>Release Year</th>\n",
              "      <th>Genre</th>\n",
              "      <th>Runtime</th>\n",
              "      <th>IMDB Rating</th>\n",
              "      <th>Streaming Platform</th>\n",
              "      <th>Production Country</th>\n",
              "      <th>Age Rating</th>\n",
              "      <th>URL</th>\n",
              "    </tr>\n",
              "  </thead>\n",
              "  <tbody>\n",
              "    <tr>\n",
              "      <th>0</th>\n",
              "      <td>Stree 2: Sarkate Ka Aatank</td>\n",
              "      <td>(2024)</td>\n",
              "      <td>Comedy, Horror</td>\n",
              "      <td>2h 27min</td>\n",
              "      <td>7.7</td>\n",
              "      <td>Bookmyshow</td>\n",
              "      <td>India</td>\n",
              "      <td>UA</td>\n",
              "      <td>https://www.justwatch.com/in/movie/stree-2</td>\n",
              "    </tr>\n",
              "    <tr>\n",
              "      <th>1</th>\n",
              "      <td>Kalki 2898-AD</td>\n",
              "      <td>(2024)</td>\n",
              "      <td>Drama, Action &amp; Adventure, Fantasy, Science-Fi...</td>\n",
              "      <td>2h 56min</td>\n",
              "      <td>7.2</td>\n",
              "      <td>Amazon Prime Video</td>\n",
              "      <td>India</td>\n",
              "      <td>UA</td>\n",
              "      <td>https://www.justwatch.com/in/movie/project-k</td>\n",
              "    </tr>\n",
              "    <tr>\n",
              "      <th>2</th>\n",
              "      <td>Kill</td>\n",
              "      <td>(2024)</td>\n",
              "      <td>Mystery &amp; Thriller, Action &amp; Adventure, Crime,...</td>\n",
              "      <td>1h 45min</td>\n",
              "      <td>7.6</td>\n",
              "      <td>Hotstar</td>\n",
              "      <td>India</td>\n",
              "      <td>A</td>\n",
              "      <td>https://www.justwatch.com/in/movie/kill-2024</td>\n",
              "    </tr>\n",
              "    <tr>\n",
              "      <th>3</th>\n",
              "      <td>Munjya</td>\n",
              "      <td>(2024)</td>\n",
              "      <td>Horror, Comedy</td>\n",
              "      <td>2h 3min</td>\n",
              "      <td>6.5</td>\n",
              "      <td>Hotstar</td>\n",
              "      <td>India</td>\n",
              "      <td>UA</td>\n",
              "      <td>https://www.justwatch.com/in/movie/munjha</td>\n",
              "    </tr>\n",
              "    <tr>\n",
              "      <th>4</th>\n",
              "      <td>Stree</td>\n",
              "      <td>(2018)</td>\n",
              "      <td>Horror, Comedy, Drama</td>\n",
              "      <td>2h 7min</td>\n",
              "      <td>7.5</td>\n",
              "      <td>Apple TV</td>\n",
              "      <td>India</td>\n",
              "      <td>UA</td>\n",
              "      <td>https://www.justwatch.com/in/movie/stree</td>\n",
              "    </tr>\n",
              "    <tr>\n",
              "      <th>...</th>\n",
              "      <td>...</td>\n",
              "      <td>...</td>\n",
              "      <td>...</td>\n",
              "      <td>...</td>\n",
              "      <td>...</td>\n",
              "      <td>...</td>\n",
              "      <td>...</td>\n",
              "      <td>...</td>\n",
              "      <td>...</td>\n",
              "    </tr>\n",
              "    <tr>\n",
              "      <th>105</th>\n",
              "      <td>None</td>\n",
              "      <td>None</td>\n",
              "      <td>Horror, Comedy, Drama</td>\n",
              "      <td>2h 7min</td>\n",
              "      <td>None</td>\n",
              "      <td>None</td>\n",
              "      <td>India</td>\n",
              "      <td>None</td>\n",
              "      <td>https://www.justwatch.com/in/movie/berlin-2023</td>\n",
              "    </tr>\n",
              "    <tr>\n",
              "      <th>106</th>\n",
              "      <td>None</td>\n",
              "      <td>None</td>\n",
              "      <td>Mystery &amp; Thriller, Drama, Crime</td>\n",
              "      <td>2h 3min</td>\n",
              "      <td>None</td>\n",
              "      <td>None</td>\n",
              "      <td>India</td>\n",
              "      <td>None</td>\n",
              "      <td>https://www.justwatch.com/in/movie/sector-36</td>\n",
              "    </tr>\n",
              "    <tr>\n",
              "      <th>107</th>\n",
              "      <td>None</td>\n",
              "      <td>None</td>\n",
              "      <td>Action &amp; Adventure, Comedy, Crime</td>\n",
              "      <td>1h 48min</td>\n",
              "      <td>None</td>\n",
              "      <td>None</td>\n",
              "      <td>South Korea</td>\n",
              "      <td>None</td>\n",
              "      <td>https://www.justwatch.com/in/movie/officer-bla...</td>\n",
              "    </tr>\n",
              "    <tr>\n",
              "      <th>108</th>\n",
              "      <td>None</td>\n",
              "      <td>None</td>\n",
              "      <td>Science-Fiction, Mystery &amp; Thriller, Action &amp; ...</td>\n",
              "      <td>1h 40min</td>\n",
              "      <td>None</td>\n",
              "      <td>None</td>\n",
              "      <td>United States</td>\n",
              "      <td>None</td>\n",
              "      <td>https://www.justwatch.com/in/movie/uglies</td>\n",
              "    </tr>\n",
              "    <tr>\n",
              "      <th>109</th>\n",
              "      <td>None</td>\n",
              "      <td>None</td>\n",
              "      <td>Science-Fiction, Mystery &amp; Thriller, Action &amp; ...</td>\n",
              "      <td>1h 40min</td>\n",
              "      <td>None</td>\n",
              "      <td>None</td>\n",
              "      <td>United States</td>\n",
              "      <td>None</td>\n",
              "      <td>https://www.justwatch.com/in/movie/grave-of-th...</td>\n",
              "    </tr>\n",
              "  </tbody>\n",
              "</table>\n",
              "<p>110 rows × 9 columns</p>\n",
              "</div>\n",
              "    <div class=\"colab-df-buttons\">\n",
              "\n",
              "  <div class=\"colab-df-container\">\n",
              "    <button class=\"colab-df-convert\" onclick=\"convertToInteractive('df-8e2ad72f-f6c5-4e6a-8432-86bb039862ce')\"\n",
              "            title=\"Convert this dataframe to an interactive table.\"\n",
              "            style=\"display:none;\">\n",
              "\n",
              "  <svg xmlns=\"http://www.w3.org/2000/svg\" height=\"24px\" viewBox=\"0 -960 960 960\">\n",
              "    <path d=\"M120-120v-720h720v720H120Zm60-500h600v-160H180v160Zm220 220h160v-160H400v160Zm0 220h160v-160H400v160ZM180-400h160v-160H180v160Zm440 0h160v-160H620v160ZM180-180h160v-160H180v160Zm440 0h160v-160H620v160Z\"/>\n",
              "  </svg>\n",
              "    </button>\n",
              "\n",
              "  <style>\n",
              "    .colab-df-container {\n",
              "      display:flex;\n",
              "      gap: 12px;\n",
              "    }\n",
              "\n",
              "    .colab-df-convert {\n",
              "      background-color: #E8F0FE;\n",
              "      border: none;\n",
              "      border-radius: 50%;\n",
              "      cursor: pointer;\n",
              "      display: none;\n",
              "      fill: #1967D2;\n",
              "      height: 32px;\n",
              "      padding: 0 0 0 0;\n",
              "      width: 32px;\n",
              "    }\n",
              "\n",
              "    .colab-df-convert:hover {\n",
              "      background-color: #E2EBFA;\n",
              "      box-shadow: 0px 1px 2px rgba(60, 64, 67, 0.3), 0px 1px 3px 1px rgba(60, 64, 67, 0.15);\n",
              "      fill: #174EA6;\n",
              "    }\n",
              "\n",
              "    .colab-df-buttons div {\n",
              "      margin-bottom: 4px;\n",
              "    }\n",
              "\n",
              "    [theme=dark] .colab-df-convert {\n",
              "      background-color: #3B4455;\n",
              "      fill: #D2E3FC;\n",
              "    }\n",
              "\n",
              "    [theme=dark] .colab-df-convert:hover {\n",
              "      background-color: #434B5C;\n",
              "      box-shadow: 0px 1px 3px 1px rgba(0, 0, 0, 0.15);\n",
              "      filter: drop-shadow(0px 1px 2px rgba(0, 0, 0, 0.3));\n",
              "      fill: #FFFFFF;\n",
              "    }\n",
              "  </style>\n",
              "\n",
              "    <script>\n",
              "      const buttonEl =\n",
              "        document.querySelector('#df-8e2ad72f-f6c5-4e6a-8432-86bb039862ce button.colab-df-convert');\n",
              "      buttonEl.style.display =\n",
              "        google.colab.kernel.accessAllowed ? 'block' : 'none';\n",
              "\n",
              "      async function convertToInteractive(key) {\n",
              "        const element = document.querySelector('#df-8e2ad72f-f6c5-4e6a-8432-86bb039862ce');\n",
              "        const dataTable =\n",
              "          await google.colab.kernel.invokeFunction('convertToInteractive',\n",
              "                                                    [key], {});\n",
              "        if (!dataTable) return;\n",
              "\n",
              "        const docLinkHtml = 'Like what you see? Visit the ' +\n",
              "          '<a target=\"_blank\" href=https://colab.research.google.com/notebooks/data_table.ipynb>data table notebook</a>'\n",
              "          + ' to learn more about interactive tables.';\n",
              "        element.innerHTML = '';\n",
              "        dataTable['output_type'] = 'display_data';\n",
              "        await google.colab.output.renderOutput(dataTable, element);\n",
              "        const docLink = document.createElement('div');\n",
              "        docLink.innerHTML = docLinkHtml;\n",
              "        element.appendChild(docLink);\n",
              "      }\n",
              "    </script>\n",
              "  </div>\n",
              "\n",
              "\n",
              "<div id=\"df-b6aa09c7-0a7e-49c5-b1c4-184e9c7eda1b\">\n",
              "  <button class=\"colab-df-quickchart\" onclick=\"quickchart('df-b6aa09c7-0a7e-49c5-b1c4-184e9c7eda1b')\"\n",
              "            title=\"Suggest charts\"\n",
              "            style=\"display:none;\">\n",
              "\n",
              "<svg xmlns=\"http://www.w3.org/2000/svg\" height=\"24px\"viewBox=\"0 0 24 24\"\n",
              "     width=\"24px\">\n",
              "    <g>\n",
              "        <path d=\"M19 3H5c-1.1 0-2 .9-2 2v14c0 1.1.9 2 2 2h14c1.1 0 2-.9 2-2V5c0-1.1-.9-2-2-2zM9 17H7v-7h2v7zm4 0h-2V7h2v10zm4 0h-2v-4h2v4z\"/>\n",
              "    </g>\n",
              "</svg>\n",
              "  </button>\n",
              "\n",
              "<style>\n",
              "  .colab-df-quickchart {\n",
              "      --bg-color: #E8F0FE;\n",
              "      --fill-color: #1967D2;\n",
              "      --hover-bg-color: #E2EBFA;\n",
              "      --hover-fill-color: #174EA6;\n",
              "      --disabled-fill-color: #AAA;\n",
              "      --disabled-bg-color: #DDD;\n",
              "  }\n",
              "\n",
              "  [theme=dark] .colab-df-quickchart {\n",
              "      --bg-color: #3B4455;\n",
              "      --fill-color: #D2E3FC;\n",
              "      --hover-bg-color: #434B5C;\n",
              "      --hover-fill-color: #FFFFFF;\n",
              "      --disabled-bg-color: #3B4455;\n",
              "      --disabled-fill-color: #666;\n",
              "  }\n",
              "\n",
              "  .colab-df-quickchart {\n",
              "    background-color: var(--bg-color);\n",
              "    border: none;\n",
              "    border-radius: 50%;\n",
              "    cursor: pointer;\n",
              "    display: none;\n",
              "    fill: var(--fill-color);\n",
              "    height: 32px;\n",
              "    padding: 0;\n",
              "    width: 32px;\n",
              "  }\n",
              "\n",
              "  .colab-df-quickchart:hover {\n",
              "    background-color: var(--hover-bg-color);\n",
              "    box-shadow: 0 1px 2px rgba(60, 64, 67, 0.3), 0 1px 3px 1px rgba(60, 64, 67, 0.15);\n",
              "    fill: var(--button-hover-fill-color);\n",
              "  }\n",
              "\n",
              "  .colab-df-quickchart-complete:disabled,\n",
              "  .colab-df-quickchart-complete:disabled:hover {\n",
              "    background-color: var(--disabled-bg-color);\n",
              "    fill: var(--disabled-fill-color);\n",
              "    box-shadow: none;\n",
              "  }\n",
              "\n",
              "  .colab-df-spinner {\n",
              "    border: 2px solid var(--fill-color);\n",
              "    border-color: transparent;\n",
              "    border-bottom-color: var(--fill-color);\n",
              "    animation:\n",
              "      spin 1s steps(1) infinite;\n",
              "  }\n",
              "\n",
              "  @keyframes spin {\n",
              "    0% {\n",
              "      border-color: transparent;\n",
              "      border-bottom-color: var(--fill-color);\n",
              "      border-left-color: var(--fill-color);\n",
              "    }\n",
              "    20% {\n",
              "      border-color: transparent;\n",
              "      border-left-color: var(--fill-color);\n",
              "      border-top-color: var(--fill-color);\n",
              "    }\n",
              "    30% {\n",
              "      border-color: transparent;\n",
              "      border-left-color: var(--fill-color);\n",
              "      border-top-color: var(--fill-color);\n",
              "      border-right-color: var(--fill-color);\n",
              "    }\n",
              "    40% {\n",
              "      border-color: transparent;\n",
              "      border-right-color: var(--fill-color);\n",
              "      border-top-color: var(--fill-color);\n",
              "    }\n",
              "    60% {\n",
              "      border-color: transparent;\n",
              "      border-right-color: var(--fill-color);\n",
              "    }\n",
              "    80% {\n",
              "      border-color: transparent;\n",
              "      border-right-color: var(--fill-color);\n",
              "      border-bottom-color: var(--fill-color);\n",
              "    }\n",
              "    90% {\n",
              "      border-color: transparent;\n",
              "      border-bottom-color: var(--fill-color);\n",
              "    }\n",
              "  }\n",
              "</style>\n",
              "\n",
              "  <script>\n",
              "    async function quickchart(key) {\n",
              "      const quickchartButtonEl =\n",
              "        document.querySelector('#' + key + ' button');\n",
              "      quickchartButtonEl.disabled = true;  // To prevent multiple clicks.\n",
              "      quickchartButtonEl.classList.add('colab-df-spinner');\n",
              "      try {\n",
              "        const charts = await google.colab.kernel.invokeFunction(\n",
              "            'suggestCharts', [key], {});\n",
              "      } catch (error) {\n",
              "        console.error('Error during call to suggestCharts:', error);\n",
              "      }\n",
              "      quickchartButtonEl.classList.remove('colab-df-spinner');\n",
              "      quickchartButtonEl.classList.add('colab-df-quickchart-complete');\n",
              "    }\n",
              "    (() => {\n",
              "      let quickchartButtonEl =\n",
              "        document.querySelector('#df-b6aa09c7-0a7e-49c5-b1c4-184e9c7eda1b button');\n",
              "      quickchartButtonEl.style.display =\n",
              "        google.colab.kernel.accessAllowed ? 'block' : 'none';\n",
              "    })();\n",
              "  </script>\n",
              "</div>\n",
              "\n",
              "  <div id=\"id_293502c5-d925-4701-83cc-6b55961dcf75\">\n",
              "    <style>\n",
              "      .colab-df-generate {\n",
              "        background-color: #E8F0FE;\n",
              "        border: none;\n",
              "        border-radius: 50%;\n",
              "        cursor: pointer;\n",
              "        display: none;\n",
              "        fill: #1967D2;\n",
              "        height: 32px;\n",
              "        padding: 0 0 0 0;\n",
              "        width: 32px;\n",
              "      }\n",
              "\n",
              "      .colab-df-generate:hover {\n",
              "        background-color: #E2EBFA;\n",
              "        box-shadow: 0px 1px 2px rgba(60, 64, 67, 0.3), 0px 1px 3px 1px rgba(60, 64, 67, 0.15);\n",
              "        fill: #174EA6;\n",
              "      }\n",
              "\n",
              "      [theme=dark] .colab-df-generate {\n",
              "        background-color: #3B4455;\n",
              "        fill: #D2E3FC;\n",
              "      }\n",
              "\n",
              "      [theme=dark] .colab-df-generate:hover {\n",
              "        background-color: #434B5C;\n",
              "        box-shadow: 0px 1px 3px 1px rgba(0, 0, 0, 0.15);\n",
              "        filter: drop-shadow(0px 1px 2px rgba(0, 0, 0, 0.3));\n",
              "        fill: #FFFFFF;\n",
              "      }\n",
              "    </style>\n",
              "    <button class=\"colab-df-generate\" onclick=\"generateWithVariable('movies')\"\n",
              "            title=\"Generate code using this dataframe.\"\n",
              "            style=\"display:none;\">\n",
              "\n",
              "  <svg xmlns=\"http://www.w3.org/2000/svg\" height=\"24px\"viewBox=\"0 0 24 24\"\n",
              "       width=\"24px\">\n",
              "    <path d=\"M7,19H8.4L18.45,9,17,7.55,7,17.6ZM5,21V16.75L18.45,3.32a2,2,0,0,1,2.83,0l1.4,1.43a1.91,1.91,0,0,1,.58,1.4,1.91,1.91,0,0,1-.58,1.4L9.25,21ZM18.45,9,17,7.55Zm-12,3A5.31,5.31,0,0,0,4.9,8.1,5.31,5.31,0,0,0,1,6.5,5.31,5.31,0,0,0,4.9,4.9,5.31,5.31,0,0,0,6.5,1,5.31,5.31,0,0,0,8.1,4.9,5.31,5.31,0,0,0,12,6.5,5.46,5.46,0,0,0,6.5,12Z\"/>\n",
              "  </svg>\n",
              "    </button>\n",
              "    <script>\n",
              "      (() => {\n",
              "      const buttonEl =\n",
              "        document.querySelector('#id_293502c5-d925-4701-83cc-6b55961dcf75 button.colab-df-generate');\n",
              "      buttonEl.style.display =\n",
              "        google.colab.kernel.accessAllowed ? 'block' : 'none';\n",
              "\n",
              "      buttonEl.onclick = () => {\n",
              "        google.colab.notebook.generateWithVariable('movies');\n",
              "      }\n",
              "      })();\n",
              "    </script>\n",
              "  </div>\n",
              "\n",
              "    </div>\n",
              "  </div>\n"
            ],
            "application/vnd.google.colaboratory.intrinsic+json": {
              "type": "dataframe",
              "variable_name": "movies",
              "summary": "{\n  \"name\": \"movies\",\n  \"rows\": 110,\n  \"fields\": [\n    {\n      \"column\": \"Movie Title\",\n      \"properties\": {\n        \"dtype\": \"string\",\n        \"num_unique_values\": 92,\n        \"samples\": [\n          \" Land of Bad\",\n          \" Kingdom of the Planet of the Apes\",\n          \" Sam Bahadur\"\n        ],\n        \"semantic_type\": \"\",\n        \"description\": \"\"\n      }\n    },\n    {\n      \"column\": \"Release Year\",\n      \"properties\": {\n        \"dtype\": \"category\",\n        \"num_unique_values\": 16,\n        \"samples\": [\n          \"(2024)\",\n          \"(2018)\",\n          \"(2019)\"\n        ],\n        \"semantic_type\": \"\",\n        \"description\": \"\"\n      }\n    },\n    {\n      \"column\": \"Genre\",\n      \"properties\": {\n        \"dtype\": \"string\",\n        \"num_unique_values\": 76,\n        \"samples\": [\n          \"Horror, Comedy, Drama\",\n          \"Action & Adventure, War & Military, Mystery & Thriller\",\n          \"Action & Adventure, Science-Fiction, Mystery & Thriller\"\n        ],\n        \"semantic_type\": \"\",\n        \"description\": \"\"\n      }\n    },\n    {\n      \"column\": \"Runtime\",\n      \"properties\": {\n        \"dtype\": \"string\",\n        \"num_unique_values\": 57,\n        \"samples\": [\n          \"2h 27min\",\n          \"2h 28min\",\n          \"1h 49min\"\n        ],\n        \"semantic_type\": \"\",\n        \"description\": \"\"\n      }\n    },\n    {\n      \"column\": \"IMDB Rating\",\n      \"properties\": {\n        \"dtype\": \"category\",\n        \"num_unique_values\": 37,\n        \"samples\": [\n          \"4.7\",\n          \"3.3\",\n          \"7.5\"\n        ],\n        \"semantic_type\": \"\",\n        \"description\": \"\"\n      }\n    },\n    {\n      \"column\": \"Streaming Platform\",\n      \"properties\": {\n        \"dtype\": \"category\",\n        \"num_unique_values\": 11,\n        \"samples\": [\n          \"Netflix\",\n          \"Bookmyshow\",\n          \"MUBI\"\n        ],\n        \"semantic_type\": \"\",\n        \"description\": \"\"\n      }\n    },\n    {\n      \"column\": \"Production Country\",\n      \"properties\": {\n        \"dtype\": \"category\",\n        \"num_unique_values\": 20,\n        \"samples\": [\n          \"India\",\n          \"United States, United Kingdom, Turkey\",\n          \"Hong Kong, United States\"\n        ],\n        \"semantic_type\": \"\",\n        \"description\": \"\"\n      }\n    },\n    {\n      \"column\": \"Age Rating\",\n      \"properties\": {\n        \"dtype\": \"category\",\n        \"num_unique_values\": 3,\n        \"samples\": [\n          \"UA\",\n          \"A\",\n          \"U\"\n        ],\n        \"semantic_type\": \"\",\n        \"description\": \"\"\n      }\n    },\n    {\n      \"column\": \"URL\",\n      \"properties\": {\n        \"dtype\": \"string\",\n        \"num_unique_values\": 105,\n        \"samples\": [\n          \"https://www.justwatch.com/in/movie/trisha-on-the-rocks\",\n          \"https://www.justwatch.com/in/movie/khel-khel-mein\",\n          \"https://www.justwatch.com/in/movie/dune-2021\"\n        ],\n        \"semantic_type\": \"\",\n        \"description\": \"\"\n      }\n    }\n  ]\n}"
            }
          },
          "metadata": {},
          "execution_count": 27
        }
      ],
      "source": [
        "movies"
      ]
    },
    {
      "cell_type": "markdown",
      "metadata": {
        "id": "LYQ5acWzJRZr"
      },
      "source": [
        "## **Scraping TV  Show Data**"
      ]
    },
    {
      "cell_type": "code",
      "execution_count": null,
      "metadata": {
        "id": "Xic8FWfwI6AT"
      },
      "outputs": [],
      "source": [
        "# Specifying the URL from which tv show related data will be fetched\n",
        "url = \"https://www.justwatch.com/in/tv-shows?release_year_from=2000\"\n",
        "tv_soup = fetch_movie_urls(url)"
      ]
    },
    {
      "cell_type": "markdown",
      "metadata": {
        "id": "ev-VUSNvJ-fJ"
      },
      "source": [
        "## **Fetching Tv shows Url details**"
      ]
    },
    {
      "cell_type": "code",
      "execution_count": null,
      "metadata": {
        "id": "eMlwT4I-8gGh"
      },
      "outputs": [],
      "source": [
        "# Write Your Code here\n",
        "tv_links = tv_soup.find_all('a', href=True)\n",
        "tv_urls = [link['href'] for link in tv_links if '/tv-show/' in link['href']]\n",
        "\n",
        "url_list_tv=[]\n",
        "for x in tv_urls:\n",
        "  url_list_tv.append('https://www.justwatch.com'+x)"
      ]
    },
    {
      "cell_type": "code",
      "execution_count": null,
      "metadata": {
        "id": "t44Wndc32py2"
      },
      "outputs": [],
      "source": [
        "tv_html=[]\n",
        "for url in url_list_tv:\n",
        "  boxx = fetch_movie_urls(url)\n",
        "  tv_html.append(boxx)"
      ]
    },
    {
      "cell_type": "markdown",
      "metadata": {
        "id": "1vZLzmqcKDPX"
      },
      "source": [
        "## **Fetching Tv Show Title details**"
      ]
    },
    {
      "cell_type": "code",
      "execution_count": null,
      "metadata": {
        "colab": {
          "base_uri": "https://localhost:8080/"
        },
        "id": "a8Y6UF6-JLvO",
        "outputId": "3202997b-8acd-4507-dbb1-2e323f68f1a7"
      },
      "outputs": [
        {
          "output_type": "stream",
          "name": "stdout",
          "text": [
            "97\n"
          ]
        }
      ],
      "source": [
        "# Write Your Code here\n",
        "tv_title=[]\n",
        "for soup in tv_html:\n",
        "  if isinstance(soup, tuple):\n",
        "    soup = soup[0]\n",
        "  elif not isinstance(soup, str):\n",
        "    title=soup.find('h1', class_=\"title-detail-hero__details__title\").text\n",
        "    tv_title.append(title[:-7])\n",
        "print(len(tv_title))"
      ]
    },
    {
      "cell_type": "markdown",
      "metadata": {
        "id": "mEIt9j6RKa9B"
      },
      "source": [
        "## **Fetching Release Year**"
      ]
    },
    {
      "cell_type": "code",
      "execution_count": null,
      "metadata": {
        "id": "r72fyiF8JozW",
        "colab": {
          "base_uri": "https://localhost:8080/"
        },
        "outputId": "a3d2bede-5205-4d72-e116-4585be5efd7a"
      },
      "outputs": [
        {
          "output_type": "stream",
          "name": "stdout",
          "text": [
            "['(2018)', '(2024)', '(2024)', '(2024)', '(2018)', '(2024)', '(2022)', '(2011)', '(2022)', '(2019)', '(2024)', '(2020)', '(2013)', '(2022)', '(2024)', '(2024)', '(2024)', '(2018)', '(2021)', '(2006)', '(2024)', '(2019)', '(2024)', '(2008)', '(2024)', '(2020)', '(2019)', '(2020)', '(2020)', '(2023)', '(2020)', '(2024)', '(2020)', '(2024)', '(2018)', '(2018)', '(2010)', '(2019)', '(2022)', '(2019)', '(2013)', '(2024)', '(2007)', '(2023)', '(2023)', '(2022)', '(2017)', '(2021)', '(2017)', '(2023)', '(2019)', '(2021)', '(2011)', '(2024)', '(2019)', '(2024)', '(2024)', '(2009)', '(2024)', '(2019)', '(2016)', '(2022)', '(2022)', '(2010)', '(2020)', '(2024)', '(2024)', '(2013)', '(2004)', '(2024)', '(2020)', '(2018)', '(2009)', '(2020)', '(2017)', '(2005)', '(2022)', '(2018)', '(2004)', '(2024)', '(2020)', '(2024)', '(2013)', '(2011)', '(2024)', '(2024)', '(2019)', '(2018)', '(2024)', '(2024)', '(2024)', '(2018)', '(2024)', '(2024)', '(2024)', '(2024)', '(2024)']\n"
          ]
        }
      ],
      "source": [
        "# Write Your Code here\n",
        "tv_release_year=[]\n",
        "for  soup in tv_html:\n",
        "  if isinstance(soup, tuple):\n",
        "    soup = soup[0]\n",
        "  elif not isinstance(soup, str):\n",
        "    rel_year = soup.find('span', {'class':\"release-year\"})\n",
        "    tv_release_year.append(rel_year.text)\n",
        "print(tv_release_year)"
      ]
    },
    {
      "cell_type": "markdown",
      "metadata": {
        "id": "P96pGO9kRCLv"
      },
      "source": [
        "## **Fetching TV Show Genre Details**"
      ]
    },
    {
      "cell_type": "code",
      "execution_count": null,
      "metadata": {
        "id": "Jay8a9xgT43-",
        "colab": {
          "base_uri": "https://localhost:8080/"
        },
        "outputId": "73dad7a8-e1fe-4446-a2dc-a44c3e35b046"
      },
      "outputs": [
        {
          "output_type": "stream",
          "name": "stdout",
          "text": [
            "['Action & Adventure, Drama, Mystery & Thriller, Crime', 'Animation', 'Drama, Fantasy, Science-Fiction', 'Crime, Drama', 'Comedy, Drama, Romance', 'Drama, History, Mystery & Thriller, War & Military', 'Action & Adventure, Science-Fiction, Drama, Fantasy, Romance', 'Action & Adventure, Science-Fiction, Drama, Fantasy', 'Drama, Action & Adventure, Science-Fiction, Fantasy', 'Science-Fiction, Action & Adventure, Crime, Drama, Comedy', 'Science-Fiction, Animation, Action & Adventure', 'Drama, Comedy', 'Fantasy, Horror, Animation, Action & Adventure, Drama, Science-Fiction', 'Drama, Horror, Science-Fiction, Mystery & Thriller', 'Romance, Drama, Comedy', 'Mystery & Thriller, Crime, Drama', 'Drama, War & Military, History', 'Action & Adventure, Crime, Mystery & Thriller, Drama', 'Crime, Drama, Mystery & Thriller, Comedy', 'Reality TV, Kids & Family', 'Comedy, Drama, Fantasy, Science-Fiction', 'Comedy, Drama, Fantasy, Science-Fiction, Action & Adventure', 'Drama, Horror, Mystery & Thriller', 'Crime, Drama, Mystery & Thriller', 'Crime, Drama, Mystery & Thriller, Comedy', 'Drama, Science-Fiction, Crime, Horror, Mystery & Thriller, Fantasy', 'Action & Adventure, Science-Fiction, Fantasy, Mystery & Thriller, Animation', 'Drama, Comedy, Fantasy', 'Crime, Drama, Mystery & Thriller', 'Crime, Drama, Mystery & Thriller', 'Drama, Comedy, Romance', 'Drama, Comedy, Romance', 'Drama, Crime, Mystery & Thriller', 'Mystery & Thriller, Crime, Drama', 'Drama, Mystery & Thriller, Crime', 'Drama, Crime, Action & Adventure', 'Crime, Drama, Mystery & Thriller, Made in Europe', 'Action & Adventure, Comedy, Drama', 'Comedy, Drama', 'Crime, Drama, Mystery & Thriller, Horror', 'Drama, Crime', 'Comedy, Romance', 'Action & Adventure, Science-Fiction, Animation, Comedy, Drama, Fantasy', 'Science-Fiction, Comedy, Drama, Fantasy, Mystery & Thriller, Action & Adventure', 'Drama', 'Drama', 'Mystery & Thriller, Action & Adventure, Crime, Drama, Made in Europe', 'Crime, Comedy', 'Science-Fiction, Mystery & Thriller, Crime, Drama', 'Action & Adventure, Drama, Science-Fiction, Mystery & Thriller, Romance, Fantasy', 'Drama', 'Action & Adventure, Drama', 'Comedy', 'Drama, Comedy, Crime', 'Kids & Family, Comedy, Drama', 'Drama, Science-Fiction, Mystery & Thriller, Fantasy', 'Crime, Drama', 'Drama, Romance, Comedy', 'Crime, Documentary', 'Crime, Mystery & Thriller', 'Action & Adventure, Science-Fiction, Mystery & Thriller, Drama, Fantasy, Horror', 'Drama', 'Drama, Crime', 'Drama, Science-Fiction, Action & Adventure, Horror, Mystery & Thriller', 'Drama', 'Reality TV', 'Romance, Drama', 'Drama, History, War & Military', 'Mystery & Thriller, Action & Adventure, Drama, Fantasy, Science-Fiction', 'Action & Adventure, Drama, Science-Fiction, War & Military', 'Drama, Mystery & Thriller, Crime', 'Mystery & Thriller, Drama, Crime', 'Mystery & Thriller, Drama, Crime', 'Mystery & Thriller, Drama, Crime', 'Mystery & Thriller, Drama, Crime', 'Science-Fiction, Drama, Fantasy, Horror, Romance, Mystery & Thriller', 'Science-Fiction, Drama, Fantasy, Horror, Romance, Mystery & Thriller', 'Animation, Action & Adventure, Fantasy, Mystery & Thriller, Science-Fiction', 'Animation, Action & Adventure, Fantasy, Mystery & Thriller, Science-Fiction', 'Animation, Action & Adventure, Fantasy, Mystery & Thriller, Science-Fiction', 'Drama', 'Comedy, Drama, Romance', 'Comedy, Drama, Romance', 'Comedy, Drama, Romance', 'Crime, Drama, Comedy, Mystery & Thriller', 'Crime, Drama, Comedy, Mystery & Thriller', 'Drama, Crime, Romance, Mystery & Thriller', 'Drama, Crime, Romance, Mystery & Thriller', 'Drama, Crime, Romance, Mystery & Thriller', 'Drama, Crime, Romance, Mystery & Thriller', 'Drama, Crime, Romance, Mystery & Thriller', 'Drama, Mystery & Thriller', 'Comedy', 'Crime, Drama, Mystery & Thriller', 'Animation, Crime, Action & Adventure, Science-Fiction, Kids & Family, Fantasy', 'Action & Adventure, War & Military, Drama, History, Romance, Made in Europe', 'Action & Adventure, Science-Fiction, Mystery & Thriller, Crime, Drama', 'Crime, Drama', 'Drama, Science-Fiction, Mystery & Thriller', 'Drama, Science-Fiction, Mystery & Thriller, Fantasy, Horror', 'Action & Adventure, Drama, Mystery & Thriller, Crime', 'Animation', 'Drama, Fantasy, Science-Fiction', 'Crime, Drama', 'Comedy, Drama, Romance', 'Science-Fiction, Comedy, Action & Adventure, Kids & Family, Fantasy, Animation', 'Animation, Kids & Family, Music & Musical', 'Animation, Kids & Family, Music & Musical', 'Animation, Kids & Family, Music & Musical', 'Documentary']\n"
          ]
        }
      ],
      "source": [
        "#Write your code here\n",
        "tv_genres=[]\n",
        "for soup in tv_html:\n",
        "  if isinstance(soup, tuple):\n",
        "    soup = soup[0]\n",
        "  elif not isinstance(soup, str):\n",
        "    genres_heading = soup.find('h3', class_='detail-infos__subheading', string='Genres')\n",
        "\n",
        "# Find the <div> element following the <h3> element\n",
        "  if genres_heading:\n",
        "    genre_div = genres_heading.find_next_sibling('div', class_='detail-infos__value')\n",
        "    tv_genres.append(genre_div.text)\n",
        "print(tv_genres)"
      ]
    },
    {
      "cell_type": "markdown",
      "metadata": {
        "id": "hk3eSdDAXQv8"
      },
      "source": [
        "## **Fetching IMDB Rating Details**"
      ]
    },
    {
      "cell_type": "code",
      "execution_count": null,
      "metadata": {
        "id": "EmltFOQEXM2W",
        "colab": {
          "base_uri": "https://localhost:8080/"
        },
        "outputId": "331b9032-572d-43a4-eac1-edec813f1aea"
      },
      "outputs": [
        {
          "output_type": "stream",
          "name": "stdout",
          "text": [
            "['8.4', 'N/A', '8.2', '8.2', '4.8', '5.4', '8.4', '9.2', '6.9', '8.7', '7.1', '9.0', '9.1', '7.7', '6.2', '6.9', '8.6', '8.2', '8.1', '3.6', '7.5', '7.8', '5.8', '9.5', '7.0', '7.2', '8.6', '6.9', '8.5', '8.4', '6.9', '8.4', '6.6', '6.6', '3.4', '8.0', '9.1', '8.7', '8.6', '7.8', '8.8', '6.5', '8.7', '8.1', 'N/A', '8.3', '8.2', '7.4', '8.7', '5.3', '8.3', '8.3', '6.7', '7.4', '9.1', '7.5', '7.7', '8.5', '7.3', '6.8', '8.7', '6.7', '8.0', '8.1', '7.3', '4.4', '7.7', '9.0', '8.3', '8.4', '9.2', '7.2', '7.7', '8.6', '8.0', '8.3', '8.2', '7.7', '8.7', '6.9', '8.1', '7.3', '8.5', '8.5', '7.5', '7.7', '6.0', '8.4', 'N/A', '8.2', '8.2', '4.8', 'N/A', 'N/A', 'N/A', 'N/A', 'N/A']\n"
          ]
        }
      ],
      "source": [
        "# Write Your Code here\n",
        "tv_imdb_rating=[]\n",
        "for soup in tv_html:\n",
        "  if isinstance(soup, tuple):\n",
        "    soup = soup[0]\n",
        "  elif not isinstance(soup, str):\n",
        "    imdb_heading = soup.find('div',class_=\"jw-scoring-listing__rating--group jw-scoring-listing__rating--link\")\n",
        "    if imdb_heading:\n",
        "      imdb = imdb_heading.text\n",
        "      tv_imdb_rating.append(imdb[0:3])\n",
        "    else:\n",
        "      tv_imdb_rating.append(\"N/A\")\n",
        "print(tv_imdb_rating)"
      ]
    },
    {
      "cell_type": "markdown",
      "metadata": {
        "id": "XZ9nJhmiZB_W"
      },
      "source": [
        "## **Fetching Age Rating Details**"
      ]
    },
    {
      "cell_type": "code",
      "execution_count": null,
      "metadata": {
        "id": "wR9Xo8piZA7p",
        "colab": {
          "base_uri": "https://localhost:8080/"
        },
        "outputId": "4f4257a3-6c3a-47fe-f378-e1805e1cffb8"
      },
      "outputs": [
        {
          "output_type": "stream",
          "name": "stdout",
          "text": [
            "['A', 'A', 'A', 'U', 'A', 'A', 'UA', 'A', 'A', 'A', 'A', 'A', 'A', 'A', 'U', 'A', 'U', 'A', 'A', 'A', 'UA', 'A', 'A', 'UA', 'A', 'U', 'U', 'U', 'A', 'A', 'A', 'A', 'A', 'U', 'U', 'U', 'U', 'U', 'U', 'A', 'A', 'A', 'A', 'A', 'A', 'A', 'U', 'A', 'A', 'U', 'A', 'A', 'A']\n"
          ]
        }
      ],
      "source": [
        "# Write Your Code here\n",
        "tv_age_rating=[]\n",
        "for soup in tv_html:\n",
        "  if isinstance(soup, tuple):\n",
        "    soup = soup[0]\n",
        "  elif not isinstance(soup, str):\n",
        "    age_heading = soup.find('h3', class_='detail-infos__subheading', string='Age rating')\n",
        "\n",
        "# Find the <div> element following the <h3> element\n",
        "  if age_heading:\n",
        "    age_div = age_heading.find_next_sibling('div', class_='detail-infos__value')\n",
        "    tv_age_rating.append(age_div.text)\n",
        "print(tv_age_rating)"
      ]
    },
    {
      "cell_type": "markdown",
      "metadata": {
        "id": "ii49LH4tdNoN"
      },
      "source": [
        "## **Fetching Production Country details**"
      ]
    },
    {
      "cell_type": "code",
      "execution_count": null,
      "metadata": {
        "id": "xihOeyN8XXDt",
        "colab": {
          "base_uri": "https://localhost:8080/"
        },
        "outputId": "2f2a019b-5938-40fc-fd70-7cb6faaefd33"
      },
      "outputs": [
        {
          "output_type": "stream",
          "name": "stdout",
          "text": [
            "['India', 'Japan', 'India', 'India', 'India', 'India', 'United States', 'United States', 'United States', 'United States', 'United States, Japan', 'India', 'Japan', 'United States', 'India', 'South Korea', 'United States', 'India', 'United States', 'India', 'United Kingdom', 'United States', 'Thailand', 'United States', 'India', 'South Korea', 'Japan', 'India', 'India', 'India', 'United States', 'South Korea', 'India', 'United States', 'India', 'United States', 'United Kingdom', 'India', 'United States', 'United States', 'United Kingdom', 'India', 'Japan', 'India', 'China', 'United States, South Korea, Canada', 'Spain', 'India', 'Germany', 'Turkey', 'United States', 'India', 'United States', 'United States', 'India', 'United States', 'United States', 'United States', 'United States', 'India', 'United States', 'United States', 'United States', 'United States', 'United Kingdom, United States', 'India', 'India', 'United States, India', 'United States', 'United States', 'India', 'Spain', 'United States', 'Japan, United States', 'United States', 'United States', 'United Kingdom', 'United States', 'United States', 'United States', 'India', 'United States', 'Canada', 'United States', 'Brazil', 'United States', 'United States', 'India', 'Japan', 'India', 'India', 'India', 'United States', 'United Kingdom, United States', 'United Kingdom, United States', 'United States, United Kingdom', 'United States']\n"
          ]
        }
      ],
      "source": [
        "# Write Your Code here\n",
        "tv_country=[]\n",
        "for soup in tv_html:\n",
        "  if isinstance(soup, tuple):\n",
        "    soup = soup[0]\n",
        "  elif not isinstance(soup, str):\n",
        "    production_heading = soup.find('h3', class_='detail-infos__subheading', string=' Production country ')\n",
        "    if production_heading:\n",
        "      production_div = production_heading.find_next_sibling('div', class_='detail-infos__value')\n",
        "      tv_country.append(production_div.text)\n",
        "print(tv_country)"
      ]
    },
    {
      "cell_type": "markdown",
      "metadata": {
        "id": "mHZwwgiKdlQm"
      },
      "source": [
        "## **Fetching Streaming Service details**"
      ]
    },
    {
      "cell_type": "code",
      "execution_count": null,
      "metadata": {
        "id": "_MBl6Vqadrl9",
        "colab": {
          "base_uri": "https://localhost:8080/"
        },
        "outputId": "6ae665e3-6a81-43e8-df40-43e6b3c87246"
      },
      "outputs": [
        {
          "output_type": "stream",
          "name": "stdout",
          "text": [
            "['Amazon Prime Video', 'Amazon Prime Video', 'Amazon Prime Video', 'Amazon Prime Video', 'Amazon Prime Video', 'Amazon Prime Video', 'Amazon Prime Video', 'Amazon Prime Video', 'Amazon Prime Video', 'Amazon Prime Video', 'Crunchyroll', 'Apple TV Plus', 'Amazon Prime Video', 'Apple TV Plus', 'Apple TV Plus', 'Amazon Prime Video', 'Amazon Prime Video', 'Amazon Prime Video', 'Amazon Prime Video', 'Amazon Prime Video', 'Amazon Prime Video', 'Amazon Prime Video', 'Amazon Prime Video', 'Amazon Prime Video', 'Apple TV Plus', 'Apple TV Plus', 'Amazon Prime Video', 'Amazon Prime Video', 'Amazon Prime Video', 'Apple TV Plus', 'Amazon Prime Video', 'Amazon Prime Video']\n"
          ]
        }
      ],
      "source": [
        "# Write Your Code here\n",
        "tv_streaming=[]\n",
        "for soup in tv_html:\n",
        "  if isinstance(soup, tuple):\n",
        "    soup = soup[0]\n",
        "  elif not isinstance(soup, str):\n",
        "    stream = soup.find('section', class_=\"promoted-buybox__container\")\n",
        "  if stream:\n",
        "    img_tag = stream.find('img', class_=\"offer__icon\")\n",
        "    if img_tag:\n",
        "        alt_text = img_tag.get('alt')\n",
        "        tv_streaming.append(alt_text)\n",
        "print(tv_streaming)"
      ]
    },
    {
      "cell_type": "markdown",
      "metadata": {
        "id": "uUOtDJv9gM4a"
      },
      "source": [
        "## **Fetching Duration Details**"
      ]
    },
    {
      "cell_type": "code",
      "execution_count": null,
      "metadata": {
        "id": "o4x4YY6AfoL1",
        "colab": {
          "base_uri": "https://localhost:8080/"
        },
        "outputId": "a7a9b618-8d4f-4884-c0cd-f3f8e387860d"
      },
      "outputs": [
        {
          "output_type": "stream",
          "name": "stdout",
          "text": [
            "['50min', '3min', '43min', '42min', '22min', '38min', '1h 3min', '58min', '1h 7min', '1h 1min', '28min', '35min', '25min', '50min', '39min', '58min', '59min', '24min', '35min', '1h 15min', '50min', '51min', '43min', '47min', '57min', '58min', '26min', '28min', '47min', '56min', '31min', '1h 18min', '43min', '51min', '44min', '43min', '1h 28min', '45min', '34min', '49min', '58min', '34min', '24min', '29min', '45min', '53min', '50min', '38min', '56min', '49min', '58min', '39min', '21min', '46min', '30min', '56min', '43min', '21min', '57min', '30min', '1h 1min', '49min', '39min', '46min', '56min', '31min', '26min', '23min', '43min', '59min', '52min', '50min', '42min', '24min', '43min', '24min', '45min', '48min', '44min', '23min', '43min', '26min', '45min', '44min', '53min', '52min', '42min', '50min', '3min', '43min', '42min', '22min']\n"
          ]
        }
      ],
      "source": [
        "# Write Your Code here\n",
        "tv_duration=[]\n",
        "for soup in tv_html:\n",
        "  if isinstance(soup, tuple):\n",
        "    soup = soup[0]\n",
        "  elif not isinstance(soup, str):\n",
        "    duration_heading = soup.find('h3', class_='detail-infos__subheading', string='Runtime')\n",
        "    if duration_heading:\n",
        "      duration_div = duration_heading.find_next_sibling('div', class_='detail-infos__value')\n",
        "      tv_duration.append(duration_div.text)\n",
        "print(tv_duration)"
      ]
    },
    {
      "cell_type": "markdown",
      "metadata": {
        "id": "nD4QVPT-nfVR"
      },
      "source": [
        "## **Creating TV Show DataFrame**"
      ]
    },
    {
      "cell_type": "code",
      "execution_count": null,
      "metadata": {
        "id": "W3Lnlb-xip2U"
      },
      "outputs": [],
      "source": [
        "# Write Your Code here\n",
        "max_length = max(len(tv_title), len(tv_release_year), len(tv_genres), len(tv_duration), len(tv_imdb_rating), len(tv_streaming), len(url_list_tv), len(tv_country), len(tv_age_rating))\n",
        "tv_title.extend([None] * (max_length - len(tv_title)))\n",
        "tv_release_year.extend([None] * (max_length - len(tv_release_year)))\n",
        "tv_genres.extend([None] * (max_length - len(tv_genres)))\n",
        "tv_duration.extend([None] * (max_length - len(tv_duration)))\n",
        "tv_imdb_rating.extend([None] * (max_length - len(tv_imdb_rating)))\n",
        "tv_streaming.extend([None] * (max_length - len(tv_streaming)))\n",
        "url_list_tv.extend([None] * (max_length - len(url_list_tv)))\n",
        "tv_country.extend([None] * (max_length - len(tv_country)))\n",
        "tv_age_rating.extend([None] * (max_length - len(tv_age_rating)))\n",
        "\n",
        "tv = pd.DataFrame({\n",
        "    'Tv Shows': tv_title,\n",
        "    'Release Year': tv_release_year,\n",
        "    'Genre': tv_genres,\n",
        "    'IMDB Rating': tv_imdb_rating,\n",
        "    'Runtime': tv_duration,\n",
        "    'Streaming Platform': tv_streaming,\n",
        "    'Production Country': tv_country,\n",
        "    'Age Rating': tv_age_rating,\n",
        "    'URL': url_list_tv\n",
        "})"
      ]
    },
    {
      "cell_type": "code",
      "source": [
        "tv"
      ],
      "metadata": {
        "colab": {
          "base_uri": "https://localhost:8080/",
          "height": 615
        },
        "id": "d-LUsIA4hN98",
        "outputId": "62abf539-d332-4265-c235-ec89c7630078"
      },
      "execution_count": null,
      "outputs": [
        {
          "output_type": "execute_result",
          "data": {
            "text/plain": [
              "                Tv Shows Release Year  \\\n",
              "0               Mirzapur       (2018)   \n",
              "1     Adam's Sweet Agony       (2024)   \n",
              "2        Gyaarah Gyaarah       (2024)   \n",
              "3           Shekhar Home       (2024)   \n",
              "4        XXX: Uncensored       (2018)   \n",
              "..                   ...          ...   \n",
              "105                 None         None   \n",
              "106                 None         None   \n",
              "107                 None         None   \n",
              "108                 None         None   \n",
              "109                 None         None   \n",
              "\n",
              "                                                 Genre IMDB Rating Runtime  \\\n",
              "0    Action & Adventure, Drama, Mystery & Thriller,...         8.4   50min   \n",
              "1                                            Animation         N/A    3min   \n",
              "2                      Drama, Fantasy, Science-Fiction         8.2   43min   \n",
              "3                                         Crime, Drama         8.2   42min   \n",
              "4                               Comedy, Drama, Romance         4.8   22min   \n",
              "..                                                 ...         ...     ...   \n",
              "105  Science-Fiction, Comedy, Action & Adventure, K...        None    None   \n",
              "106          Animation, Kids & Family, Music & Musical        None    None   \n",
              "107          Animation, Kids & Family, Music & Musical        None    None   \n",
              "108          Animation, Kids & Family, Music & Musical        None    None   \n",
              "109                                        Documentary        None    None   \n",
              "\n",
              "     Streaming Platform Production Country Age Rating  \\\n",
              "0    Amazon Prime Video              India          A   \n",
              "1    Amazon Prime Video              Japan          A   \n",
              "2    Amazon Prime Video              India          A   \n",
              "3    Amazon Prime Video              India          U   \n",
              "4    Amazon Prime Video              India          A   \n",
              "..                  ...                ...        ...   \n",
              "105                None               None       None   \n",
              "106                None               None       None   \n",
              "107                None               None       None   \n",
              "108                None               None       None   \n",
              "109                None               None       None   \n",
              "\n",
              "                                                   URL  \n",
              "0        https://www.justwatch.com/in/tv-show/mirzapur  \n",
              "1    https://www.justwatch.com/in/tv-show/adams-swe...  \n",
              "2    https://www.justwatch.com/in/tv-show/gyaarah-g...  \n",
              "3    https://www.justwatch.com/in/tv-show/shekhar-home  \n",
              "4    https://www.justwatch.com/in/tv-show/x-x-x-unc...  \n",
              "..                                                 ...  \n",
              "105  https://www.justwatch.com/in/tv-show/lego-star...  \n",
              "106  https://www.justwatch.com/in/tv-show/cocomelon...  \n",
              "107  https://www.justwatch.com/in/tv-show/cocomelon...  \n",
              "108  https://www.justwatch.com/in/tv-show/cocomelon...  \n",
              "109  https://www.justwatch.com/in/tv-show/whats-nex...  \n",
              "\n",
              "[110 rows x 9 columns]"
            ],
            "text/html": [
              "\n",
              "  <div id=\"df-9c9fad31-0292-4f00-9f66-13142bdc5bb9\" class=\"colab-df-container\">\n",
              "    <div>\n",
              "<style scoped>\n",
              "    .dataframe tbody tr th:only-of-type {\n",
              "        vertical-align: middle;\n",
              "    }\n",
              "\n",
              "    .dataframe tbody tr th {\n",
              "        vertical-align: top;\n",
              "    }\n",
              "\n",
              "    .dataframe thead th {\n",
              "        text-align: right;\n",
              "    }\n",
              "</style>\n",
              "<table border=\"1\" class=\"dataframe\">\n",
              "  <thead>\n",
              "    <tr style=\"text-align: right;\">\n",
              "      <th></th>\n",
              "      <th>Tv Shows</th>\n",
              "      <th>Release Year</th>\n",
              "      <th>Genre</th>\n",
              "      <th>IMDB Rating</th>\n",
              "      <th>Runtime</th>\n",
              "      <th>Streaming Platform</th>\n",
              "      <th>Production Country</th>\n",
              "      <th>Age Rating</th>\n",
              "      <th>URL</th>\n",
              "    </tr>\n",
              "  </thead>\n",
              "  <tbody>\n",
              "    <tr>\n",
              "      <th>0</th>\n",
              "      <td>Mirzapur</td>\n",
              "      <td>(2018)</td>\n",
              "      <td>Action &amp; Adventure, Drama, Mystery &amp; Thriller,...</td>\n",
              "      <td>8.4</td>\n",
              "      <td>50min</td>\n",
              "      <td>Amazon Prime Video</td>\n",
              "      <td>India</td>\n",
              "      <td>A</td>\n",
              "      <td>https://www.justwatch.com/in/tv-show/mirzapur</td>\n",
              "    </tr>\n",
              "    <tr>\n",
              "      <th>1</th>\n",
              "      <td>Adam's Sweet Agony</td>\n",
              "      <td>(2024)</td>\n",
              "      <td>Animation</td>\n",
              "      <td>N/A</td>\n",
              "      <td>3min</td>\n",
              "      <td>Amazon Prime Video</td>\n",
              "      <td>Japan</td>\n",
              "      <td>A</td>\n",
              "      <td>https://www.justwatch.com/in/tv-show/adams-swe...</td>\n",
              "    </tr>\n",
              "    <tr>\n",
              "      <th>2</th>\n",
              "      <td>Gyaarah Gyaarah</td>\n",
              "      <td>(2024)</td>\n",
              "      <td>Drama, Fantasy, Science-Fiction</td>\n",
              "      <td>8.2</td>\n",
              "      <td>43min</td>\n",
              "      <td>Amazon Prime Video</td>\n",
              "      <td>India</td>\n",
              "      <td>A</td>\n",
              "      <td>https://www.justwatch.com/in/tv-show/gyaarah-g...</td>\n",
              "    </tr>\n",
              "    <tr>\n",
              "      <th>3</th>\n",
              "      <td>Shekhar Home</td>\n",
              "      <td>(2024)</td>\n",
              "      <td>Crime, Drama</td>\n",
              "      <td>8.2</td>\n",
              "      <td>42min</td>\n",
              "      <td>Amazon Prime Video</td>\n",
              "      <td>India</td>\n",
              "      <td>U</td>\n",
              "      <td>https://www.justwatch.com/in/tv-show/shekhar-home</td>\n",
              "    </tr>\n",
              "    <tr>\n",
              "      <th>4</th>\n",
              "      <td>XXX: Uncensored</td>\n",
              "      <td>(2018)</td>\n",
              "      <td>Comedy, Drama, Romance</td>\n",
              "      <td>4.8</td>\n",
              "      <td>22min</td>\n",
              "      <td>Amazon Prime Video</td>\n",
              "      <td>India</td>\n",
              "      <td>A</td>\n",
              "      <td>https://www.justwatch.com/in/tv-show/x-x-x-unc...</td>\n",
              "    </tr>\n",
              "    <tr>\n",
              "      <th>...</th>\n",
              "      <td>...</td>\n",
              "      <td>...</td>\n",
              "      <td>...</td>\n",
              "      <td>...</td>\n",
              "      <td>...</td>\n",
              "      <td>...</td>\n",
              "      <td>...</td>\n",
              "      <td>...</td>\n",
              "      <td>...</td>\n",
              "    </tr>\n",
              "    <tr>\n",
              "      <th>105</th>\n",
              "      <td>None</td>\n",
              "      <td>None</td>\n",
              "      <td>Science-Fiction, Comedy, Action &amp; Adventure, K...</td>\n",
              "      <td>None</td>\n",
              "      <td>None</td>\n",
              "      <td>None</td>\n",
              "      <td>None</td>\n",
              "      <td>None</td>\n",
              "      <td>https://www.justwatch.com/in/tv-show/lego-star...</td>\n",
              "    </tr>\n",
              "    <tr>\n",
              "      <th>106</th>\n",
              "      <td>None</td>\n",
              "      <td>None</td>\n",
              "      <td>Animation, Kids &amp; Family, Music &amp; Musical</td>\n",
              "      <td>None</td>\n",
              "      <td>None</td>\n",
              "      <td>None</td>\n",
              "      <td>None</td>\n",
              "      <td>None</td>\n",
              "      <td>https://www.justwatch.com/in/tv-show/cocomelon...</td>\n",
              "    </tr>\n",
              "    <tr>\n",
              "      <th>107</th>\n",
              "      <td>None</td>\n",
              "      <td>None</td>\n",
              "      <td>Animation, Kids &amp; Family, Music &amp; Musical</td>\n",
              "      <td>None</td>\n",
              "      <td>None</td>\n",
              "      <td>None</td>\n",
              "      <td>None</td>\n",
              "      <td>None</td>\n",
              "      <td>https://www.justwatch.com/in/tv-show/cocomelon...</td>\n",
              "    </tr>\n",
              "    <tr>\n",
              "      <th>108</th>\n",
              "      <td>None</td>\n",
              "      <td>None</td>\n",
              "      <td>Animation, Kids &amp; Family, Music &amp; Musical</td>\n",
              "      <td>None</td>\n",
              "      <td>None</td>\n",
              "      <td>None</td>\n",
              "      <td>None</td>\n",
              "      <td>None</td>\n",
              "      <td>https://www.justwatch.com/in/tv-show/cocomelon...</td>\n",
              "    </tr>\n",
              "    <tr>\n",
              "      <th>109</th>\n",
              "      <td>None</td>\n",
              "      <td>None</td>\n",
              "      <td>Documentary</td>\n",
              "      <td>None</td>\n",
              "      <td>None</td>\n",
              "      <td>None</td>\n",
              "      <td>None</td>\n",
              "      <td>None</td>\n",
              "      <td>https://www.justwatch.com/in/tv-show/whats-nex...</td>\n",
              "    </tr>\n",
              "  </tbody>\n",
              "</table>\n",
              "<p>110 rows × 9 columns</p>\n",
              "</div>\n",
              "    <div class=\"colab-df-buttons\">\n",
              "\n",
              "  <div class=\"colab-df-container\">\n",
              "    <button class=\"colab-df-convert\" onclick=\"convertToInteractive('df-9c9fad31-0292-4f00-9f66-13142bdc5bb9')\"\n",
              "            title=\"Convert this dataframe to an interactive table.\"\n",
              "            style=\"display:none;\">\n",
              "\n",
              "  <svg xmlns=\"http://www.w3.org/2000/svg\" height=\"24px\" viewBox=\"0 -960 960 960\">\n",
              "    <path d=\"M120-120v-720h720v720H120Zm60-500h600v-160H180v160Zm220 220h160v-160H400v160Zm0 220h160v-160H400v160ZM180-400h160v-160H180v160Zm440 0h160v-160H620v160ZM180-180h160v-160H180v160Zm440 0h160v-160H620v160Z\"/>\n",
              "  </svg>\n",
              "    </button>\n",
              "\n",
              "  <style>\n",
              "    .colab-df-container {\n",
              "      display:flex;\n",
              "      gap: 12px;\n",
              "    }\n",
              "\n",
              "    .colab-df-convert {\n",
              "      background-color: #E8F0FE;\n",
              "      border: none;\n",
              "      border-radius: 50%;\n",
              "      cursor: pointer;\n",
              "      display: none;\n",
              "      fill: #1967D2;\n",
              "      height: 32px;\n",
              "      padding: 0 0 0 0;\n",
              "      width: 32px;\n",
              "    }\n",
              "\n",
              "    .colab-df-convert:hover {\n",
              "      background-color: #E2EBFA;\n",
              "      box-shadow: 0px 1px 2px rgba(60, 64, 67, 0.3), 0px 1px 3px 1px rgba(60, 64, 67, 0.15);\n",
              "      fill: #174EA6;\n",
              "    }\n",
              "\n",
              "    .colab-df-buttons div {\n",
              "      margin-bottom: 4px;\n",
              "    }\n",
              "\n",
              "    [theme=dark] .colab-df-convert {\n",
              "      background-color: #3B4455;\n",
              "      fill: #D2E3FC;\n",
              "    }\n",
              "\n",
              "    [theme=dark] .colab-df-convert:hover {\n",
              "      background-color: #434B5C;\n",
              "      box-shadow: 0px 1px 3px 1px rgba(0, 0, 0, 0.15);\n",
              "      filter: drop-shadow(0px 1px 2px rgba(0, 0, 0, 0.3));\n",
              "      fill: #FFFFFF;\n",
              "    }\n",
              "  </style>\n",
              "\n",
              "    <script>\n",
              "      const buttonEl =\n",
              "        document.querySelector('#df-9c9fad31-0292-4f00-9f66-13142bdc5bb9 button.colab-df-convert');\n",
              "      buttonEl.style.display =\n",
              "        google.colab.kernel.accessAllowed ? 'block' : 'none';\n",
              "\n",
              "      async function convertToInteractive(key) {\n",
              "        const element = document.querySelector('#df-9c9fad31-0292-4f00-9f66-13142bdc5bb9');\n",
              "        const dataTable =\n",
              "          await google.colab.kernel.invokeFunction('convertToInteractive',\n",
              "                                                    [key], {});\n",
              "        if (!dataTable) return;\n",
              "\n",
              "        const docLinkHtml = 'Like what you see? Visit the ' +\n",
              "          '<a target=\"_blank\" href=https://colab.research.google.com/notebooks/data_table.ipynb>data table notebook</a>'\n",
              "          + ' to learn more about interactive tables.';\n",
              "        element.innerHTML = '';\n",
              "        dataTable['output_type'] = 'display_data';\n",
              "        await google.colab.output.renderOutput(dataTable, element);\n",
              "        const docLink = document.createElement('div');\n",
              "        docLink.innerHTML = docLinkHtml;\n",
              "        element.appendChild(docLink);\n",
              "      }\n",
              "    </script>\n",
              "  </div>\n",
              "\n",
              "\n",
              "<div id=\"df-ecfa88a8-3aac-4687-b3bd-64dd67c4bc20\">\n",
              "  <button class=\"colab-df-quickchart\" onclick=\"quickchart('df-ecfa88a8-3aac-4687-b3bd-64dd67c4bc20')\"\n",
              "            title=\"Suggest charts\"\n",
              "            style=\"display:none;\">\n",
              "\n",
              "<svg xmlns=\"http://www.w3.org/2000/svg\" height=\"24px\"viewBox=\"0 0 24 24\"\n",
              "     width=\"24px\">\n",
              "    <g>\n",
              "        <path d=\"M19 3H5c-1.1 0-2 .9-2 2v14c0 1.1.9 2 2 2h14c1.1 0 2-.9 2-2V5c0-1.1-.9-2-2-2zM9 17H7v-7h2v7zm4 0h-2V7h2v10zm4 0h-2v-4h2v4z\"/>\n",
              "    </g>\n",
              "</svg>\n",
              "  </button>\n",
              "\n",
              "<style>\n",
              "  .colab-df-quickchart {\n",
              "      --bg-color: #E8F0FE;\n",
              "      --fill-color: #1967D2;\n",
              "      --hover-bg-color: #E2EBFA;\n",
              "      --hover-fill-color: #174EA6;\n",
              "      --disabled-fill-color: #AAA;\n",
              "      --disabled-bg-color: #DDD;\n",
              "  }\n",
              "\n",
              "  [theme=dark] .colab-df-quickchart {\n",
              "      --bg-color: #3B4455;\n",
              "      --fill-color: #D2E3FC;\n",
              "      --hover-bg-color: #434B5C;\n",
              "      --hover-fill-color: #FFFFFF;\n",
              "      --disabled-bg-color: #3B4455;\n",
              "      --disabled-fill-color: #666;\n",
              "  }\n",
              "\n",
              "  .colab-df-quickchart {\n",
              "    background-color: var(--bg-color);\n",
              "    border: none;\n",
              "    border-radius: 50%;\n",
              "    cursor: pointer;\n",
              "    display: none;\n",
              "    fill: var(--fill-color);\n",
              "    height: 32px;\n",
              "    padding: 0;\n",
              "    width: 32px;\n",
              "  }\n",
              "\n",
              "  .colab-df-quickchart:hover {\n",
              "    background-color: var(--hover-bg-color);\n",
              "    box-shadow: 0 1px 2px rgba(60, 64, 67, 0.3), 0 1px 3px 1px rgba(60, 64, 67, 0.15);\n",
              "    fill: var(--button-hover-fill-color);\n",
              "  }\n",
              "\n",
              "  .colab-df-quickchart-complete:disabled,\n",
              "  .colab-df-quickchart-complete:disabled:hover {\n",
              "    background-color: var(--disabled-bg-color);\n",
              "    fill: var(--disabled-fill-color);\n",
              "    box-shadow: none;\n",
              "  }\n",
              "\n",
              "  .colab-df-spinner {\n",
              "    border: 2px solid var(--fill-color);\n",
              "    border-color: transparent;\n",
              "    border-bottom-color: var(--fill-color);\n",
              "    animation:\n",
              "      spin 1s steps(1) infinite;\n",
              "  }\n",
              "\n",
              "  @keyframes spin {\n",
              "    0% {\n",
              "      border-color: transparent;\n",
              "      border-bottom-color: var(--fill-color);\n",
              "      border-left-color: var(--fill-color);\n",
              "    }\n",
              "    20% {\n",
              "      border-color: transparent;\n",
              "      border-left-color: var(--fill-color);\n",
              "      border-top-color: var(--fill-color);\n",
              "    }\n",
              "    30% {\n",
              "      border-color: transparent;\n",
              "      border-left-color: var(--fill-color);\n",
              "      border-top-color: var(--fill-color);\n",
              "      border-right-color: var(--fill-color);\n",
              "    }\n",
              "    40% {\n",
              "      border-color: transparent;\n",
              "      border-right-color: var(--fill-color);\n",
              "      border-top-color: var(--fill-color);\n",
              "    }\n",
              "    60% {\n",
              "      border-color: transparent;\n",
              "      border-right-color: var(--fill-color);\n",
              "    }\n",
              "    80% {\n",
              "      border-color: transparent;\n",
              "      border-right-color: var(--fill-color);\n",
              "      border-bottom-color: var(--fill-color);\n",
              "    }\n",
              "    90% {\n",
              "      border-color: transparent;\n",
              "      border-bottom-color: var(--fill-color);\n",
              "    }\n",
              "  }\n",
              "</style>\n",
              "\n",
              "  <script>\n",
              "    async function quickchart(key) {\n",
              "      const quickchartButtonEl =\n",
              "        document.querySelector('#' + key + ' button');\n",
              "      quickchartButtonEl.disabled = true;  // To prevent multiple clicks.\n",
              "      quickchartButtonEl.classList.add('colab-df-spinner');\n",
              "      try {\n",
              "        const charts = await google.colab.kernel.invokeFunction(\n",
              "            'suggestCharts', [key], {});\n",
              "      } catch (error) {\n",
              "        console.error('Error during call to suggestCharts:', error);\n",
              "      }\n",
              "      quickchartButtonEl.classList.remove('colab-df-spinner');\n",
              "      quickchartButtonEl.classList.add('colab-df-quickchart-complete');\n",
              "    }\n",
              "    (() => {\n",
              "      let quickchartButtonEl =\n",
              "        document.querySelector('#df-ecfa88a8-3aac-4687-b3bd-64dd67c4bc20 button');\n",
              "      quickchartButtonEl.style.display =\n",
              "        google.colab.kernel.accessAllowed ? 'block' : 'none';\n",
              "    })();\n",
              "  </script>\n",
              "</div>\n",
              "\n",
              "  <div id=\"id_c30fb042-82d4-48f7-bebb-429657d450cf\">\n",
              "    <style>\n",
              "      .colab-df-generate {\n",
              "        background-color: #E8F0FE;\n",
              "        border: none;\n",
              "        border-radius: 50%;\n",
              "        cursor: pointer;\n",
              "        display: none;\n",
              "        fill: #1967D2;\n",
              "        height: 32px;\n",
              "        padding: 0 0 0 0;\n",
              "        width: 32px;\n",
              "      }\n",
              "\n",
              "      .colab-df-generate:hover {\n",
              "        background-color: #E2EBFA;\n",
              "        box-shadow: 0px 1px 2px rgba(60, 64, 67, 0.3), 0px 1px 3px 1px rgba(60, 64, 67, 0.15);\n",
              "        fill: #174EA6;\n",
              "      }\n",
              "\n",
              "      [theme=dark] .colab-df-generate {\n",
              "        background-color: #3B4455;\n",
              "        fill: #D2E3FC;\n",
              "      }\n",
              "\n",
              "      [theme=dark] .colab-df-generate:hover {\n",
              "        background-color: #434B5C;\n",
              "        box-shadow: 0px 1px 3px 1px rgba(0, 0, 0, 0.15);\n",
              "        filter: drop-shadow(0px 1px 2px rgba(0, 0, 0, 0.3));\n",
              "        fill: #FFFFFF;\n",
              "      }\n",
              "    </style>\n",
              "    <button class=\"colab-df-generate\" onclick=\"generateWithVariable('tv')\"\n",
              "            title=\"Generate code using this dataframe.\"\n",
              "            style=\"display:none;\">\n",
              "\n",
              "  <svg xmlns=\"http://www.w3.org/2000/svg\" height=\"24px\"viewBox=\"0 0 24 24\"\n",
              "       width=\"24px\">\n",
              "    <path d=\"M7,19H8.4L18.45,9,17,7.55,7,17.6ZM5,21V16.75L18.45,3.32a2,2,0,0,1,2.83,0l1.4,1.43a1.91,1.91,0,0,1,.58,1.4,1.91,1.91,0,0,1-.58,1.4L9.25,21ZM18.45,9,17,7.55Zm-12,3A5.31,5.31,0,0,0,4.9,8.1,5.31,5.31,0,0,0,1,6.5,5.31,5.31,0,0,0,4.9,4.9,5.31,5.31,0,0,0,6.5,1,5.31,5.31,0,0,0,8.1,4.9,5.31,5.31,0,0,0,12,6.5,5.46,5.46,0,0,0,6.5,12Z\"/>\n",
              "  </svg>\n",
              "    </button>\n",
              "    <script>\n",
              "      (() => {\n",
              "      const buttonEl =\n",
              "        document.querySelector('#id_c30fb042-82d4-48f7-bebb-429657d450cf button.colab-df-generate');\n",
              "      buttonEl.style.display =\n",
              "        google.colab.kernel.accessAllowed ? 'block' : 'none';\n",
              "\n",
              "      buttonEl.onclick = () => {\n",
              "        google.colab.notebook.generateWithVariable('tv');\n",
              "      }\n",
              "      })();\n",
              "    </script>\n",
              "  </div>\n",
              "\n",
              "    </div>\n",
              "  </div>\n"
            ],
            "application/vnd.google.colaboratory.intrinsic+json": {
              "type": "dataframe",
              "variable_name": "tv",
              "summary": "{\n  \"name\": \"tv\",\n  \"rows\": 110,\n  \"fields\": [\n    {\n      \"column\": \"Tv Shows\",\n      \"properties\": {\n        \"dtype\": \"string\",\n        \"num_unique_values\": 91,\n        \"samples\": [\n          \" Peaky Blinders\",\n          \" Terror Tuesday: Extreme\",\n          \" 3 Body Problem\"\n        ],\n        \"semantic_type\": \"\",\n        \"description\": \"\"\n      }\n    },\n    {\n      \"column\": \"Release Year\",\n      \"properties\": {\n        \"dtype\": \"category\",\n        \"num_unique_values\": 18,\n        \"samples\": [\n          \"(2018)\",\n          \"(2024)\",\n          \"(2006)\"\n        ],\n        \"semantic_type\": \"\",\n        \"description\": \"\"\n      }\n    },\n    {\n      \"column\": \"Genre\",\n      \"properties\": {\n        \"dtype\": \"string\",\n        \"num_unique_values\": 73,\n        \"samples\": [\n          \"Comedy, Drama, Romance\",\n          \"Drama, Crime, Romance, Mystery & Thriller\",\n          \"Crime, Drama, Mystery & Thriller, Comedy\"\n        ],\n        \"semantic_type\": \"\",\n        \"description\": \"\"\n      }\n    },\n    {\n      \"column\": \"IMDB Rating\",\n      \"properties\": {\n        \"dtype\": \"category\",\n        \"num_unique_values\": 36,\n        \"samples\": [\n          \"6.0\",\n          \"8.6\",\n          \"8.8\"\n        ],\n        \"semantic_type\": \"\",\n        \"description\": \"\"\n      }\n    },\n    {\n      \"column\": \"Runtime\",\n      \"properties\": {\n        \"dtype\": \"category\",\n        \"num_unique_values\": 37,\n        \"samples\": [\n          \"51min\",\n          \"39min\",\n          \"22min\"\n        ],\n        \"semantic_type\": \"\",\n        \"description\": \"\"\n      }\n    },\n    {\n      \"column\": \"Streaming Platform\",\n      \"properties\": {\n        \"dtype\": \"category\",\n        \"num_unique_values\": 3,\n        \"samples\": [\n          \"Amazon Prime Video\",\n          \"Crunchyroll\",\n          \"Apple TV Plus\"\n        ],\n        \"semantic_type\": \"\",\n        \"description\": \"\"\n      }\n    },\n    {\n      \"column\": \"Production Country\",\n      \"properties\": {\n        \"dtype\": \"category\",\n        \"num_unique_values\": 18,\n        \"samples\": [\n          \"India\",\n          \"Japan\",\n          \"United States, South Korea, Canada\"\n        ],\n        \"semantic_type\": \"\",\n        \"description\": \"\"\n      }\n    },\n    {\n      \"column\": \"Age Rating\",\n      \"properties\": {\n        \"dtype\": \"category\",\n        \"num_unique_values\": 3,\n        \"samples\": [\n          \"A\",\n          \"U\",\n          \"UA\"\n        ],\n        \"semantic_type\": \"\",\n        \"description\": \"\"\n      }\n    },\n    {\n      \"column\": \"URL\",\n      \"properties\": {\n        \"dtype\": \"string\",\n        \"num_unique_values\": 105,\n        \"samples\": [\n          \"https://www.justwatch.com/in/tv-show/emily-in-paris\",\n          \"https://www.justwatch.com/in/tv-show/follow-karlo-yaar\",\n          \"https://www.justwatch.com/in/tv-show/industry\"\n        ],\n        \"semantic_type\": \"\",\n        \"description\": \"\"\n      }\n    }\n  ]\n}"
            }
          },
          "metadata": {},
          "execution_count": 57
        }
      ]
    },
    {
      "cell_type": "markdown",
      "metadata": {
        "id": "CyqHHKh4IDx6"
      },
      "source": [
        "## **Task 2 :- Data Filtering & Analysis**"
      ]
    },
    {
      "cell_type": "markdown",
      "source": [
        "## **Finding Top Movies & TV Shows**"
      ],
      "metadata": {
        "id": "jgOmqhG6nVGB"
      }
    },
    {
      "cell_type": "code",
      "source": [
        "# Top 10 Movies & TV Shows\n",
        "top_movies = movies.sort_values(by='IMDB Rating', ascending=False).head(10)\n",
        "top_tv = tv.sort_values(by='IMDB Rating', ascending=False).head(10)\n",
        "print(\"Top 10 Movies:- \",top_movies[\"Movie Title\"])\n",
        "print(\"Top 10 TV Shows:- \",top_tv[\"Tv Shows\"])"
      ],
      "metadata": {
        "colab": {
          "base_uri": "https://localhost:8080/"
        },
        "id": "HNY_vtHgncgQ",
        "outputId": "b3f56a8f-904a-4d0e-d9c8-a5a47d09c074"
      },
      "execution_count": null,
      "outputs": [
        {
          "output_type": "stream",
          "name": "stdout",
          "text": [
            "Top 10 Movies:-  96                 Uglies\n",
            "95     Officer Black Belt\n",
            "94              Sector 36\n",
            "68              12th Fail\n",
            "7                Maharaja\n",
            "20         Dune: Part Two\n",
            "57        Laapataa Ladies\n",
            "75         Bangalore Days\n",
            "47            Oppenheimer\n",
            "63         Manjummel Boys\n",
            "Name: Movie Title, dtype: object\n",
            "Top 10 TV Shows:-  96    What's Next? The Future with Bill Gates - Seas...\n",
            "95                                Cocomelon - Season 11\n",
            "94                                Cocomelon - Season 11\n",
            "93                               Cocomelon - Season  11\n",
            "92      LEGO Star Wars: Rebuild the Galaxy - Miniseries\n",
            "88                                   Adam's Sweet Agony\n",
            "44                                          Hidden Love\n",
            "1                                    Adam's Sweet Agony\n",
            "23                                         Breaking Bad\n",
            "7                                       Game of Thrones\n",
            "Name: Tv Shows, dtype: object\n"
          ]
        }
      ]
    },
    {
      "cell_type": "markdown",
      "metadata": {
        "id": "0bPDbn-gPyfm"
      },
      "source": [
        "## **Calculating Mean IMDB Ratings for both Movies and Tv Shows**"
      ]
    },
    {
      "cell_type": "code",
      "execution_count": null,
      "metadata": {
        "id": "6aGmGPOlIkk4",
        "colab": {
          "base_uri": "https://localhost:8080/"
        },
        "outputId": "94503eca-8418-4d31-8d5a-eb686aa9f3c8"
      },
      "outputs": [
        {
          "output_type": "stream",
          "name": "stdout",
          "text": [
            "Mean IMDB rating of Movies:-  7.008510638297872\n",
            "Mean IMDB rating of TV Series:-  7.66179775280899\n"
          ]
        }
      ],
      "source": [
        "# Write Your Code here\n",
        "mean_imdb_movies = pd.to_numeric(movies['IMDB Rating'],errors = 'coerce').mean()\n",
        "mean_imdb_tv = pd.to_numeric(tv['IMDB Rating'],errors=\"coerce\").mean()\n",
        "print(\"Mean IMDB rating of Movies:- \",mean_imdb_movies)\n",
        "print(\"Mean IMDB rating of TV Series:- \",mean_imdb_tv)"
      ]
    },
    {
      "cell_type": "markdown",
      "metadata": {
        "id": "N_OroblUQG4r"
      },
      "source": [
        "## **Analyzing Top Genres**"
      ]
    },
    {
      "cell_type": "code",
      "execution_count": null,
      "metadata": {
        "id": "4ljPnIn2LJLZ",
        "colab": {
          "base_uri": "https://localhost:8080/"
        },
        "outputId": "3886f2be-7039-4e70-e7e1-6e8eb3200d49"
      },
      "outputs": [
        {
          "output_type": "stream",
          "name": "stdout",
          "text": [
            "Top 10 highest Genres of Movies:-  Genre\n",
            "Drama                                                   7\n",
            "Action & Adventure, Drama                               5\n",
            "Crime, Comedy, Drama                                    4\n",
            "Drama, Mystery & Thriller, Action & Adventure, Crime    4\n",
            "Mystery & Thriller, Action & Adventure, Crime, Drama    3\n",
            "Horror, Comedy, Drama                                   3\n",
            "Drama, Romance                                          3\n",
            "Romance, Comedy                                         3\n",
            "Comedy, Horror                                          2\n",
            "Science-Fiction, Action & Adventure, Drama              2\n",
            "Name: count, dtype: int64\n",
            "Top 10 highest Genres of TV Shows:-  Genre\n",
            "Drama                                                                          6\n",
            "Drama, Crime, Romance, Mystery & Thriller                                      5\n",
            "Comedy, Drama, Romance                                                         5\n",
            "Crime, Drama                                                                   4\n",
            "Crime, Drama, Mystery & Thriller                                               4\n",
            "Mystery & Thriller, Drama, Crime                                               4\n",
            "Animation, Kids & Family, Music & Musical                                      3\n",
            "Animation, Action & Adventure, Fantasy, Mystery & Thriller, Science-Fiction    3\n",
            "Crime, Drama, Comedy, Mystery & Thriller                                       2\n",
            "Drama, Mystery & Thriller, Crime                                               2\n",
            "Name: count, dtype: int64\n"
          ]
        }
      ],
      "source": [
        "# Top 10 highest Genres of Movies & TV shows\n",
        "top_genres_movies = movies['Genre'].value_counts().head(10)\n",
        "top_genres_tv = tv['Genre'].value_counts().head(10)\n",
        "print(\"Top 10 highest Genres of Movies:- \",top_genres_movies)\n",
        "print(\"Top 10 highest Genres of TV Shows:- \",top_genres_tv)"
      ]
    },
    {
      "cell_type": "markdown",
      "metadata": {
        "id": "BUPye0P0QP5I"
      },
      "source": [
        "## **Finding Predominant Streaming Service**"
      ]
    },
    {
      "cell_type": "code",
      "execution_count": null,
      "metadata": {
        "id": "cLXiCZSAO_40",
        "colab": {
          "base_uri": "https://localhost:8080/"
        },
        "outputId": "205d10b8-19ca-4108-a650-a04e36324d9d"
      },
      "outputs": [
        {
          "output_type": "stream",
          "name": "stdout",
          "text": [
            "Top two Streaming Service of Movies:-  Streaming Platform\n",
            "Amazon Prime Video    29\n",
            "Apple TV              23\n",
            "Name: count, dtype: int64\n",
            "Top two Streaming Service of TV Shows:-  Streaming Platform\n",
            "Amazon Prime Video    25\n",
            "Apple TV Plus          6\n",
            "Name: count, dtype: int64\n"
          ]
        }
      ],
      "source": [
        "# Top 2 Streaming Service\n",
        "top_streaming_movies = movies['Streaming Platform'].value_counts().head(2)\n",
        "top_streaming_tv = tv['Streaming Platform'].value_counts().head(2)\n",
        "print(\"Top two Streaming Service of Movies:- \",top_streaming_movies)\n",
        "print(\"Top two Streaming Service of TV Shows:- \",top_streaming_tv)\n"
      ]
    },
    {
      "cell_type": "markdown",
      "metadata": {
        "id": "tytqsADVR2x6"
      },
      "source": [
        "## **Task 3 :- Data Export**"
      ]
    },
    {
      "cell_type": "code",
      "execution_count": null,
      "metadata": {
        "id": "u4yaUlvrRj6g"
      },
      "outputs": [],
      "source": [
        "#saving final dataframe as Final Data in csv format\n",
        "movies.to_csv('Movies data.csv', index=False)\n",
        "tv.to_csv('TV Shows data.csv', index=False)"
      ]
    }
  ],
  "metadata": {
    "colab": {
      "collapsed_sections": [
        "mEIt9j6RKa9B",
        "P96pGO9kRCLv",
        "hk3eSdDAXQv8",
        "XZ9nJhmiZB_W",
        "ii49LH4tdNoN",
        "mHZwwgiKdlQm",
        "uUOtDJv9gM4a",
        "nD4QVPT-nfVR",
        "0bPDbn-gPyfm",
        "N_OroblUQG4r",
        "BUPye0P0QP5I",
        "tytqsADVR2x6"
      ],
      "provenance": [],
      "include_colab_link": true
    },
    "kernelspec": {
      "display_name": "Python 3",
      "name": "python3"
    },
    "language_info": {
      "name": "python"
    }
  },
  "nbformat": 4,
  "nbformat_minor": 0
}
